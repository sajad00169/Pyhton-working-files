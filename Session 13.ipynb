{
 "cells": [
  {
   "cell_type": "code",
   "execution_count": 1,
   "metadata": {},
   "outputs": [],
   "source": [
    "import numpy as np"
   ]
  },
  {
   "cell_type": "code",
   "execution_count": 2,
   "metadata": {},
   "outputs": [],
   "source": [
    "taxi = np.genfromtxt(\"nyc_taxis.csv\",\n",
    "                     delimiter = \",\")"
   ]
  },
  {
   "cell_type": "code",
   "execution_count": 3,
   "metadata": {},
   "outputs": [
    {
     "data": {
      "text/plain": [
       "(89561, 15)"
      ]
     },
     "execution_count": 3,
     "metadata": {},
     "output_type": "execute_result"
    }
   ],
   "source": [
    "taxi.shape"
   ]
  },
  {
   "cell_type": "code",
   "execution_count": 4,
   "metadata": {},
   "outputs": [
    {
     "data": {
      "text/plain": [
       "dtype('float64')"
      ]
     },
     "execution_count": 4,
     "metadata": {},
     "output_type": "execute_result"
    }
   ],
   "source": [
    "taxi.dtype"
   ]
  },
  {
   "cell_type": "code",
   "execution_count": 8,
   "metadata": {},
   "outputs": [],
   "source": [
    "# dir(np)\n",
    "\n",
    "np.set_printoptions(suppress = True)"
   ]
  },
  {
   "cell_type": "code",
   "execution_count": 9,
   "metadata": {},
   "outputs": [
    {
     "data": {
      "text/plain": [
       "array([[    nan,     nan,     nan, ...,     nan,     nan,     nan],\n",
       "       [2016.  ,    1.  ,    1.  , ...,   11.65,   69.99,    1.  ],\n",
       "       [2016.  ,    1.  ,    1.  , ...,    8.  ,   54.3 ,    1.  ],\n",
       "       ...,\n",
       "       [2016.  ,    6.  ,   30.  , ...,    5.  ,   63.34,    1.  ],\n",
       "       [2016.  ,    6.  ,   30.  , ...,    8.95,   44.75,    1.  ],\n",
       "       [2016.  ,    6.  ,   30.  , ...,    0.  ,   54.84,    2.  ]])"
      ]
     },
     "execution_count": 9,
     "metadata": {},
     "output_type": "execute_result"
    }
   ],
   "source": [
    "taxi"
   ]
  },
  {
   "cell_type": "code",
   "execution_count": 10,
   "metadata": {},
   "outputs": [],
   "source": [
    "# \"Waqas\""
   ]
  },
  {
   "cell_type": "code",
   "execution_count": 12,
   "metadata": {},
   "outputs": [],
   "source": [
    "# None \n",
    "# commercial solution\n",
    "# product - APis\n",
    "# Publication"
   ]
  },
  {
   "cell_type": "code",
   "execution_count": 11,
   "metadata": {},
   "outputs": [],
   "source": [
    "# ISP -> Idependent Study Project "
   ]
  },
  {
   "cell_type": "code",
   "execution_count": 13,
   "metadata": {},
   "outputs": [],
   "source": [
    "wn = np.genfromtxt(\"nyc_taxis.csv\",\n",
    "                     delimiter = \",\", names = True)"
   ]
  },
  {
   "cell_type": "code",
   "execution_count": 14,
   "metadata": {},
   "outputs": [
    {
     "data": {
      "text/plain": [
       "array([(2016., 1.,  1., 5., 0., 2., 4., 21.  , 2037., 52. , 0.8, 5.54, 11.65, 69.99, 1.),\n",
       "       (2016., 1.,  1., 5., 0., 2., 1., 16.29, 1520., 45. , 1.3, 0.  ,  8.  , 54.3 , 1.),\n",
       "       (2016., 1.,  1., 5., 0., 2., 6., 12.7 , 1462., 36.5, 1.3, 0.  ,  0.  , 37.8 , 2.),\n",
       "       ...,\n",
       "       (2016., 6., 30., 4., 5., 2., 4., 17.48, 2822., 52. , 0.8, 5.54,  5.  , 63.34, 1.),\n",
       "       (2016., 6., 30., 4., 5., 2., 6., 12.76, 1083., 34.5, 1.3, 0.  ,  8.95, 44.75, 1.),\n",
       "       (2016., 6., 30., 4., 5., 2., 0., 17.54, 1711., 48. , 1.3, 5.54,  0.  , 54.84, 2.)],\n",
       "      dtype=[('pickup_year', '<f8'), ('pickup_month', '<f8'), ('pickup_day', '<f8'), ('pickup_dayofweek', '<f8'), ('pickup_time', '<f8'), ('pickup_location_code', '<f8'), ('dropoff_location_code', '<f8'), ('trip_distance', '<f8'), ('trip_length', '<f8'), ('fare_amount', '<f8'), ('fees_amount', '<f8'), ('tolls_amount', '<f8'), ('tip_amount', '<f8'), ('total_amount', '<f8'), ('payment_type', '<f8')])"
      ]
     },
     "execution_count": 14,
     "metadata": {},
     "output_type": "execute_result"
    }
   ],
   "source": [
    "wn"
   ]
  },
  {
   "cell_type": "code",
   "execution_count": 52,
   "metadata": {},
   "outputs": [
    {
     "data": {
      "text/plain": [
       "(89560,)"
      ]
     },
     "execution_count": 52,
     "metadata": {},
     "output_type": "execute_result"
    }
   ],
   "source": [
    "wn.shape"
   ]
  },
  {
   "cell_type": "code",
   "execution_count": 15,
   "metadata": {},
   "outputs": [
    {
     "data": {
      "text/plain": [
       "dtype([('pickup_year', '<f8'), ('pickup_month', '<f8'), ('pickup_day', '<f8'), ('pickup_dayofweek', '<f8'), ('pickup_time', '<f8'), ('pickup_location_code', '<f8'), ('dropoff_location_code', '<f8'), ('trip_distance', '<f8'), ('trip_length', '<f8'), ('fare_amount', '<f8'), ('fees_amount', '<f8'), ('tolls_amount', '<f8'), ('tip_amount', '<f8'), ('total_amount', '<f8'), ('payment_type', '<f8')])"
      ]
     },
     "execution_count": 15,
     "metadata": {},
     "output_type": "execute_result"
    }
   ],
   "source": [
    "wn.dtype"
   ]
  },
  {
   "cell_type": "code",
   "execution_count": 16,
   "metadata": {},
   "outputs": [
    {
     "data": {
      "text/plain": [
       "array([2016., 2016., 2016., ..., 2016., 2016., 2016.])"
      ]
     },
     "execution_count": 16,
     "metadata": {},
     "output_type": "execute_result"
    }
   ],
   "source": [
    "wn['pickup_year']"
   ]
  },
  {
   "cell_type": "code",
   "execution_count": 17,
   "metadata": {},
   "outputs": [
    {
     "data": {
      "text/plain": [
       "array([21.  , 16.29, 12.7 , ..., 17.48, 12.76, 17.54])"
      ]
     },
     "execution_count": 17,
     "metadata": {},
     "output_type": "execute_result"
    }
   ],
   "source": [
    "wn['trip_distance']"
   ]
  },
  {
   "cell_type": "code",
   "execution_count": 18,
   "metadata": {},
   "outputs": [
    {
     "data": {
      "text/plain": [
       "array([(2016., 21.  ), (2016., 16.29), (2016., 12.7 ), ...,\n",
       "       (2016., 17.48), (2016., 12.76), (2016., 17.54)],\n",
       "      dtype={'names':['pickup_year','trip_distance'], 'formats':['<f8','<f8'], 'offsets':[0,56], 'itemsize':120})"
      ]
     },
     "execution_count": 18,
     "metadata": {},
     "output_type": "execute_result"
    }
   ],
   "source": [
    "wn[['pickup_year','trip_distance']]"
   ]
  },
  {
   "cell_type": "code",
   "execution_count": 20,
   "metadata": {},
   "outputs": [],
   "source": [
    "taxi = taxi[1:]"
   ]
  },
  {
   "cell_type": "code",
   "execution_count": 21,
   "metadata": {},
   "outputs": [
    {
     "data": {
      "text/plain": [
       "array([[2016.  ,    1.  ,    1.  , ...,   11.65,   69.99,    1.  ],\n",
       "       [2016.  ,    1.  ,    1.  , ...,    8.  ,   54.3 ,    1.  ],\n",
       "       [2016.  ,    1.  ,    1.  , ...,    0.  ,   37.8 ,    2.  ],\n",
       "       ...,\n",
       "       [2016.  ,    6.  ,   30.  , ...,    5.  ,   63.34,    1.  ],\n",
       "       [2016.  ,    6.  ,   30.  , ...,    8.95,   44.75,    1.  ],\n",
       "       [2016.  ,    6.  ,   30.  , ...,    0.  ,   54.84,    2.  ]])"
      ]
     },
     "execution_count": 21,
     "metadata": {},
     "output_type": "execute_result"
    }
   ],
   "source": [
    "taxi"
   ]
  },
  {
   "cell_type": "code",
   "execution_count": 22,
   "metadata": {},
   "outputs": [],
   "source": [
    "taxi = np.genfromtxt(\"nyc_taxis.csv\", delimiter = \",\", skip_header = True)"
   ]
  },
  {
   "cell_type": "code",
   "execution_count": 23,
   "metadata": {},
   "outputs": [
    {
     "data": {
      "text/plain": [
       "array([[2016.  ,    1.  ,    1.  , ...,   11.65,   69.99,    1.  ],\n",
       "       [2016.  ,    1.  ,    1.  , ...,    8.  ,   54.3 ,    1.  ],\n",
       "       [2016.  ,    1.  ,    1.  , ...,    0.  ,   37.8 ,    2.  ],\n",
       "       ...,\n",
       "       [2016.  ,    6.  ,   30.  , ...,    5.  ,   63.34,    1.  ],\n",
       "       [2016.  ,    6.  ,   30.  , ...,    8.95,   44.75,    1.  ],\n",
       "       [2016.  ,    6.  ,   30.  , ...,    0.  ,   54.84,    2.  ]])"
      ]
     },
     "execution_count": 23,
     "metadata": {},
     "output_type": "execute_result"
    }
   ],
   "source": [
    "taxi"
   ]
  },
  {
   "cell_type": "code",
   "execution_count": 24,
   "metadata": {},
   "outputs": [],
   "source": [
    "taxi = np.genfromtxt(\"nyc_taxis.csv\", delimiter = \",\", skip_header = 1)"
   ]
  },
  {
   "cell_type": "code",
   "execution_count": 27,
   "metadata": {},
   "outputs": [],
   "source": [
    "# Boolean array -> boolean values -> True, False -> 1,0\n",
    "# boolean vector\n",
    "# boolean mask"
   ]
  },
  {
   "cell_type": "code",
   "execution_count": 28,
   "metadata": {},
   "outputs": [],
   "source": [
    "# Boolean array act as filter"
   ]
  },
  {
   "cell_type": "code",
   "execution_count": 29,
   "metadata": {},
   "outputs": [
    {
     "data": {
      "text/plain": [
       "array([1., 1., 1., ..., 6., 6., 6.])"
      ]
     },
     "execution_count": 29,
     "metadata": {},
     "output_type": "execute_result"
    }
   ],
   "source": [
    "taxi[:,1]"
   ]
  },
  {
   "cell_type": "code",
   "execution_count": 31,
   "metadata": {},
   "outputs": [],
   "source": [
    "bol = taxi[:,1] == 2."
   ]
  },
  {
   "cell_type": "code",
   "execution_count": 32,
   "metadata": {},
   "outputs": [
    {
     "data": {
      "text/plain": [
       "array([False, False, False, ..., False, False, False])"
      ]
     },
     "execution_count": 32,
     "metadata": {},
     "output_type": "execute_result"
    }
   ],
   "source": [
    "bol"
   ]
  },
  {
   "cell_type": "code",
   "execution_count": 33,
   "metadata": {},
   "outputs": [
    {
     "data": {
      "text/plain": [
       "array([[2016.  ,    2.  ,    1.  , ...,    0.  ,   33.34,    2.  ],\n",
       "       [2016.  ,    2.  ,    1.  , ...,    2.  ,   14.8 ,    1.  ],\n",
       "       [2016.  ,    2.  ,    1.  , ...,    6.35,   38.15,    1.  ],\n",
       "       ...,\n",
       "       [2016.  ,    2.  ,   29.  , ...,    0.  ,   52.8 ,    2.  ],\n",
       "       [2016.  ,    2.  ,   29.  , ...,    6.35,   38.19,    1.  ],\n",
       "       [2016.  ,    2.  ,   29.  , ...,    3.  ,   26.3 ,    1.  ]])"
      ]
     },
     "execution_count": 33,
     "metadata": {},
     "output_type": "execute_result"
    }
   ],
   "source": [
    "taxi[bol] # boolean indexing -SIMD"
   ]
  },
  {
   "cell_type": "code",
   "execution_count": 34,
   "metadata": {},
   "outputs": [
    {
     "data": {
      "text/plain": [
       "(13333, 15)"
      ]
     },
     "execution_count": 34,
     "metadata": {},
     "output_type": "execute_result"
    }
   ],
   "source": [
    "taxi[bol].shape"
   ]
  },
  {
   "cell_type": "code",
   "execution_count": 35,
   "metadata": {},
   "outputs": [
    {
     "data": {
      "text/plain": [
       "array([11.65,  8.  ,  0.  , ...,  5.  ,  8.95,  0.  ])"
      ]
     },
     "execution_count": 35,
     "metadata": {},
     "output_type": "execute_result"
    }
   ],
   "source": [
    "taxi[:, -3]"
   ]
  },
  {
   "cell_type": "code",
   "execution_count": 36,
   "metadata": {},
   "outputs": [
    {
     "data": {
      "text/plain": [
       "array([11.65,  8.  ,  0.  , ...,  5.  ,  8.95,  0.  ])"
      ]
     },
     "execution_count": 36,
     "metadata": {},
     "output_type": "execute_result"
    }
   ],
   "source": [
    "taxi[:, 12]"
   ]
  },
  {
   "cell_type": "code",
   "execution_count": 42,
   "metadata": {},
   "outputs": [
    {
     "data": {
      "text/plain": [
       "array([False, False, False, ..., False, False, False])"
      ]
     },
     "execution_count": 42,
     "metadata": {},
     "output_type": "execute_result"
    }
   ],
   "source": [
    "bol1 = taxi[:, -3] > 50\n",
    "\n",
    "bol1"
   ]
  },
  {
   "cell_type": "code",
   "execution_count": 38,
   "metadata": {},
   "outputs": [
    {
     "data": {
      "text/plain": [
       "array([[ 2016.  ,     1.  ,     1.  ,     5.  ,     0.  ,     4.  ,\n",
       "            2.  ,    21.45,  2004.  ,    52.  ,     0.8 ,     0.  ,\n",
       "           52.8 ,   105.6 ,     1.  ],\n",
       "       [ 2016.  ,     1.  ,    11.  ,     1.  ,     0.  ,     3.  ,\n",
       "            4.  ,     9.2 ,  1041.  ,    27.  ,     1.3 ,     5.54,\n",
       "           60.  ,    93.84,     1.  ],\n",
       "       [ 2016.  ,     1.  ,    27.  ,     3.  ,     5.  ,     2.  ,\n",
       "            0.  ,    19.8 ,  1671.  ,    52.5 ,     1.3 ,     5.54,\n",
       "           59.34,   118.68,     1.  ],\n",
       "       [ 2016.  ,     2.  ,    19.  ,     5.  ,     2.  ,     4.  ,\n",
       "            2.  ,    18.42,  2968.  ,    52.  ,     0.8 ,     5.54,\n",
       "           80.  ,   138.34,     1.  ],\n",
       "       [ 2016.  ,     3.  ,     9.  ,     3.  ,     4.  ,     3.  ,\n",
       "            6.  ,     0.49,   158.  ,     3.5 ,     1.8 ,     0.  ,\n",
       "           70.  ,    75.3 ,     1.  ],\n",
       "       [ 2016.  ,     3.  ,    17.  ,     4.  ,     1.  ,     2.  ,\n",
       "            2.  ,     2.7 ,   381.  ,     9.5 ,     0.8 ,     0.  ,\n",
       "           60.  ,    70.3 ,     1.  ],\n",
       "       [ 2016.  ,     3.  ,    29.  ,     2.  ,     2.  ,     3.  ,\n",
       "            4.  ,     9.54,  1210.  ,    27.5 ,     0.8 ,     5.54,\n",
       "           55.  ,    88.84,     1.  ],\n",
       "       [ 2016.  ,     4.  ,    29.  ,     5.  ,     3.  ,     2.  ,\n",
       "            4.  ,    17.6 ,  3251.  ,    52.  ,     0.8 ,     5.54,\n",
       "           65.  ,   123.34,     1.  ],\n",
       "       [ 2016.  ,     5.  ,    16.  ,     1.  ,     3.  ,     4.  ,\n",
       "            2.  ,    38.2 ,  9252.  ,    52.  ,     0.8 ,     5.54,\n",
       "           80.  ,   138.34,     1.  ],\n",
       "       [ 2016.  ,     5.  ,    23.  ,     1.  ,     3.  ,     4.  ,\n",
       "            2.  ,    18.  ,  2276.  ,     0.01,     0.3 ,     5.54,\n",
       "           62.  ,    67.85,     1.  ],\n",
       "       [ 2016.  ,     6.  ,     5.  ,     7.  ,     4.  ,     2.  ,\n",
       "            0.  ,    26.21, 17029.  ,   180.5 ,     0.8 ,     5.54,\n",
       "          100.  ,   286.84,     1.  ],\n",
       "       [ 2016.  ,     6.  ,     6.  ,     1.  ,     1.  ,     2.  ,\n",
       "            2.  ,     0.  ,    24.  ,     2.5 ,     0.8 ,     0.  ,\n",
       "           58.  ,    61.3 ,     1.  ],\n",
       "       [ 2016.  ,     6.  ,     7.  ,     2.  ,     3.  ,     2.  ,\n",
       "            1.  ,    18.21,  3160.  ,    55.5 ,     0.8 ,     0.  ,\n",
       "           62.  ,   118.3 ,     1.  ],\n",
       "       [ 2016.  ,     6.  ,     7.  ,     2.  ,     4.  ,     2.  ,\n",
       "            2.  ,     0.  ,     3.  ,     2.5 ,     1.8 ,     0.  ,\n",
       "           75.7 ,    80.  ,     1.  ],\n",
       "       [ 2016.  ,     6.  ,    20.  ,     1.  ,     3.  ,     2.  ,\n",
       "            4.  ,    18.68,  5247.  ,    52.  ,     0.8 ,     5.54,\n",
       "           60.  ,   118.34,     1.  ],\n",
       "       [ 2016.  ,     6.  ,    23.  ,     4.  ,     3.  ,     4.  ,\n",
       "            2.  ,    18.17,  5860.  ,    52.  ,     0.8 ,     5.54,\n",
       "           70.  ,   128.34,     1.  ]])"
      ]
     },
     "execution_count": 38,
     "metadata": {},
     "output_type": "execute_result"
    }
   ],
   "source": [
    "taxi[bol1]"
   ]
  },
  {
   "cell_type": "code",
   "execution_count": 40,
   "metadata": {},
   "outputs": [
    {
     "data": {
      "text/plain": [
       "array([[    4.  ,     2.  ,    21.45,  2004.  ,    52.  ,     0.8 ,\n",
       "            0.  ,    52.8 ],\n",
       "       [    3.  ,     4.  ,     9.2 ,  1041.  ,    27.  ,     1.3 ,\n",
       "            5.54,    60.  ],\n",
       "       [    2.  ,     0.  ,    19.8 ,  1671.  ,    52.5 ,     1.3 ,\n",
       "            5.54,    59.34],\n",
       "       [    4.  ,     2.  ,    18.42,  2968.  ,    52.  ,     0.8 ,\n",
       "            5.54,    80.  ],\n",
       "       [    3.  ,     6.  ,     0.49,   158.  ,     3.5 ,     1.8 ,\n",
       "            0.  ,    70.  ],\n",
       "       [    2.  ,     2.  ,     2.7 ,   381.  ,     9.5 ,     0.8 ,\n",
       "            0.  ,    60.  ],\n",
       "       [    3.  ,     4.  ,     9.54,  1210.  ,    27.5 ,     0.8 ,\n",
       "            5.54,    55.  ],\n",
       "       [    2.  ,     4.  ,    17.6 ,  3251.  ,    52.  ,     0.8 ,\n",
       "            5.54,    65.  ],\n",
       "       [    4.  ,     2.  ,    38.2 ,  9252.  ,    52.  ,     0.8 ,\n",
       "            5.54,    80.  ],\n",
       "       [    4.  ,     2.  ,    18.  ,  2276.  ,     0.01,     0.3 ,\n",
       "            5.54,    62.  ],\n",
       "       [    2.  ,     0.  ,    26.21, 17029.  ,   180.5 ,     0.8 ,\n",
       "            5.54,   100.  ],\n",
       "       [    2.  ,     2.  ,     0.  ,    24.  ,     2.5 ,     0.8 ,\n",
       "            0.  ,    58.  ],\n",
       "       [    2.  ,     1.  ,    18.21,  3160.  ,    55.5 ,     0.8 ,\n",
       "            0.  ,    62.  ],\n",
       "       [    2.  ,     2.  ,     0.  ,     3.  ,     2.5 ,     1.8 ,\n",
       "            0.  ,    75.7 ],\n",
       "       [    2.  ,     4.  ,    18.68,  5247.  ,    52.  ,     0.8 ,\n",
       "            5.54,    60.  ],\n",
       "       [    4.  ,     2.  ,    18.17,  5860.  ,    52.  ,     0.8 ,\n",
       "            5.54,    70.  ]])"
      ]
     },
     "execution_count": 40,
     "metadata": {},
     "output_type": "execute_result"
    }
   ],
   "source": [
    "taxi[bol1, 5:13]"
   ]
  },
  {
   "cell_type": "code",
   "execution_count": 41,
   "metadata": {},
   "outputs": [
    {
     "data": {
      "text/plain": [
       "array([ 52.8 ,  60.  ,  59.34,  80.  ,  70.  ,  60.  ,  55.  ,  65.  ,\n",
       "        80.  ,  62.  , 100.  ,  58.  ,  62.  ,  75.7 ,  60.  ,  70.  ])"
      ]
     },
     "execution_count": 41,
     "metadata": {},
     "output_type": "execute_result"
    }
   ],
   "source": [
    "taxi[bol1, 12]"
   ]
  },
  {
   "cell_type": "code",
   "execution_count": 43,
   "metadata": {},
   "outputs": [],
   "source": [
    "# e+2\n",
    "\n",
    "# and or not -> python logical operator\n",
    "\n",
    "# &   |   ~   -> Numpy logical operator\n"
   ]
  },
  {
   "cell_type": "code",
   "execution_count": 44,
   "metadata": {},
   "outputs": [
    {
     "data": {
      "text/plain": [
       "array([11.65,  8.  ,  0.  , ...,  5.  ,  8.95,  0.  ])"
      ]
     },
     "execution_count": 44,
     "metadata": {},
     "output_type": "execute_result"
    }
   ],
   "source": [
    "taxi[~ bol1, 12]"
   ]
  },
  {
   "cell_type": "code",
   "execution_count": 47,
   "metadata": {},
   "outputs": [],
   "source": [
    "# print(taxi[~ bol1, 12].tolist())"
   ]
  },
  {
   "cell_type": "code",
   "execution_count": 48,
   "metadata": {},
   "outputs": [],
   "source": [
    "# 2% \n",
    "\n",
    "taxi[~ bol1, 12] = 0"
   ]
  },
  {
   "cell_type": "code",
   "execution_count": 49,
   "metadata": {},
   "outputs": [
    {
     "data": {
      "text/plain": [
       "array([[2016.  ,    1.  ,    1.  , ...,    0.  ,   69.99,    1.  ],\n",
       "       [2016.  ,    1.  ,    1.  , ...,    0.  ,   54.3 ,    1.  ],\n",
       "       [2016.  ,    1.  ,    1.  , ...,    0.  ,   37.8 ,    2.  ],\n",
       "       ...,\n",
       "       [2016.  ,    6.  ,   30.  , ...,    0.  ,   63.34,    1.  ],\n",
       "       [2016.  ,    6.  ,   30.  , ...,    0.  ,   44.75,    1.  ],\n",
       "       [2016.  ,    6.  ,   30.  , ...,    0.  ,   54.84,    2.  ]])"
      ]
     },
     "execution_count": 49,
     "metadata": {},
     "output_type": "execute_result"
    }
   ],
   "source": [
    "taxi"
   ]
  },
  {
   "cell_type": "code",
   "execution_count": 50,
   "metadata": {},
   "outputs": [
    {
     "data": {
      "text/plain": [
       "array([ 52.8 ,  60.  ,  59.34,  80.  ,  70.  ,  60.  ,  55.  ,  65.  ,\n",
       "        80.  ,  62.  , 100.  ,  58.  ,  62.  ,  75.7 ,  60.  ,  70.  ])"
      ]
     },
     "execution_count": 50,
     "metadata": {},
     "output_type": "execute_result"
    }
   ],
   "source": [
    "taxi[bol1, 12]"
   ]
  },
  {
   "cell_type": "code",
   "execution_count": 51,
   "metadata": {},
   "outputs": [],
   "source": [
    "# fortune 500"
   ]
  },
  {
   "cell_type": "code",
   "execution_count": 53,
   "metadata": {},
   "outputs": [],
   "source": [
    "# Limitation"
   ]
  },
  {
   "cell_type": "markdown",
   "metadata": {},
   "source": [
    "# Pandas "
   ]
  },
  {
   "cell_type": "code",
   "execution_count": 55,
   "metadata": {},
   "outputs": [],
   "source": [
    "# DataFrame - 2darray -> list of lists\n",
    "# Series - 1darray -> list "
   ]
  },
  {
   "cell_type": "code",
   "execution_count": 56,
   "metadata": {},
   "outputs": [],
   "source": [
    "# rows -> index -> axis = 0\n",
    "# columns -> columns -> axis = 1"
   ]
  },
  {
   "cell_type": "code",
   "execution_count": 57,
   "metadata": {},
   "outputs": [],
   "source": [
    "import pandas as pd"
   ]
  },
  {
   "cell_type": "code",
   "execution_count": 58,
   "metadata": {},
   "outputs": [],
   "source": [
    "f500 = pd.read_csv(\"f500.csv\")"
   ]
  },
  {
   "cell_type": "code",
   "execution_count": 59,
   "metadata": {},
   "outputs": [
    {
     "data": {
      "text/html": [
       "<div>\n",
       "<style scoped>\n",
       "    .dataframe tbody tr th:only-of-type {\n",
       "        vertical-align: middle;\n",
       "    }\n",
       "\n",
       "    .dataframe tbody tr th {\n",
       "        vertical-align: top;\n",
       "    }\n",
       "\n",
       "    .dataframe thead th {\n",
       "        text-align: right;\n",
       "    }\n",
       "</style>\n",
       "<table border=\"1\" class=\"dataframe\">\n",
       "  <thead>\n",
       "    <tr style=\"text-align: right;\">\n",
       "      <th></th>\n",
       "      <th>company</th>\n",
       "      <th>rank</th>\n",
       "      <th>revenues</th>\n",
       "      <th>revenue_change</th>\n",
       "      <th>profits</th>\n",
       "      <th>assets</th>\n",
       "      <th>profit_change</th>\n",
       "      <th>ceo</th>\n",
       "      <th>industry</th>\n",
       "      <th>sector</th>\n",
       "      <th>previous_rank</th>\n",
       "      <th>country</th>\n",
       "      <th>hq_location</th>\n",
       "      <th>website</th>\n",
       "      <th>years_on_global_500_list</th>\n",
       "      <th>employees</th>\n",
       "      <th>total_stockholder_equity</th>\n",
       "    </tr>\n",
       "  </thead>\n",
       "  <tbody>\n",
       "    <tr>\n",
       "      <th>0</th>\n",
       "      <td>Walmart</td>\n",
       "      <td>1</td>\n",
       "      <td>485873</td>\n",
       "      <td>0.8</td>\n",
       "      <td>13643.0</td>\n",
       "      <td>198825</td>\n",
       "      <td>-7.2</td>\n",
       "      <td>C. Douglas McMillon</td>\n",
       "      <td>General Merchandisers</td>\n",
       "      <td>Retailing</td>\n",
       "      <td>1</td>\n",
       "      <td>USA</td>\n",
       "      <td>Bentonville, AR</td>\n",
       "      <td>http://www.walmart.com</td>\n",
       "      <td>23</td>\n",
       "      <td>2300000</td>\n",
       "      <td>77798</td>\n",
       "    </tr>\n",
       "    <tr>\n",
       "      <th>1</th>\n",
       "      <td>State Grid</td>\n",
       "      <td>2</td>\n",
       "      <td>315199</td>\n",
       "      <td>-4.4</td>\n",
       "      <td>9571.3</td>\n",
       "      <td>489838</td>\n",
       "      <td>-6.2</td>\n",
       "      <td>Kou Wei</td>\n",
       "      <td>Utilities</td>\n",
       "      <td>Energy</td>\n",
       "      <td>2</td>\n",
       "      <td>China</td>\n",
       "      <td>Beijing, China</td>\n",
       "      <td>http://www.sgcc.com.cn</td>\n",
       "      <td>17</td>\n",
       "      <td>926067</td>\n",
       "      <td>209456</td>\n",
       "    </tr>\n",
       "    <tr>\n",
       "      <th>2</th>\n",
       "      <td>Sinopec Group</td>\n",
       "      <td>3</td>\n",
       "      <td>267518</td>\n",
       "      <td>-9.1</td>\n",
       "      <td>1257.9</td>\n",
       "      <td>310726</td>\n",
       "      <td>-65.0</td>\n",
       "      <td>Wang Yupu</td>\n",
       "      <td>Petroleum Refining</td>\n",
       "      <td>Energy</td>\n",
       "      <td>4</td>\n",
       "      <td>China</td>\n",
       "      <td>Beijing, China</td>\n",
       "      <td>http://www.sinopec.com</td>\n",
       "      <td>19</td>\n",
       "      <td>713288</td>\n",
       "      <td>106523</td>\n",
       "    </tr>\n",
       "    <tr>\n",
       "      <th>3</th>\n",
       "      <td>China National Petroleum</td>\n",
       "      <td>4</td>\n",
       "      <td>262573</td>\n",
       "      <td>-12.3</td>\n",
       "      <td>1867.5</td>\n",
       "      <td>585619</td>\n",
       "      <td>-73.7</td>\n",
       "      <td>Zhang Jianhua</td>\n",
       "      <td>Petroleum Refining</td>\n",
       "      <td>Energy</td>\n",
       "      <td>3</td>\n",
       "      <td>China</td>\n",
       "      <td>Beijing, China</td>\n",
       "      <td>http://www.cnpc.com.cn</td>\n",
       "      <td>17</td>\n",
       "      <td>1512048</td>\n",
       "      <td>301893</td>\n",
       "    </tr>\n",
       "    <tr>\n",
       "      <th>4</th>\n",
       "      <td>Toyota Motor</td>\n",
       "      <td>5</td>\n",
       "      <td>254694</td>\n",
       "      <td>7.7</td>\n",
       "      <td>16899.3</td>\n",
       "      <td>437575</td>\n",
       "      <td>-12.3</td>\n",
       "      <td>Akio Toyoda</td>\n",
       "      <td>Motor Vehicles and Parts</td>\n",
       "      <td>Motor Vehicles &amp; Parts</td>\n",
       "      <td>8</td>\n",
       "      <td>Japan</td>\n",
       "      <td>Toyota, Japan</td>\n",
       "      <td>http://www.toyota-global.com</td>\n",
       "      <td>23</td>\n",
       "      <td>364445</td>\n",
       "      <td>157210</td>\n",
       "    </tr>\n",
       "    <tr>\n",
       "      <th>...</th>\n",
       "      <td>...</td>\n",
       "      <td>...</td>\n",
       "      <td>...</td>\n",
       "      <td>...</td>\n",
       "      <td>...</td>\n",
       "      <td>...</td>\n",
       "      <td>...</td>\n",
       "      <td>...</td>\n",
       "      <td>...</td>\n",
       "      <td>...</td>\n",
       "      <td>...</td>\n",
       "      <td>...</td>\n",
       "      <td>...</td>\n",
       "      <td>...</td>\n",
       "      <td>...</td>\n",
       "      <td>...</td>\n",
       "      <td>...</td>\n",
       "    </tr>\n",
       "    <tr>\n",
       "      <th>495</th>\n",
       "      <td>Teva Pharmaceutical Industries</td>\n",
       "      <td>496</td>\n",
       "      <td>21903</td>\n",
       "      <td>11.5</td>\n",
       "      <td>329.0</td>\n",
       "      <td>92890</td>\n",
       "      <td>-79.3</td>\n",
       "      <td>Yitzhak Peterburg</td>\n",
       "      <td>Pharmaceuticals</td>\n",
       "      <td>Health Care</td>\n",
       "      <td>0</td>\n",
       "      <td>Israel</td>\n",
       "      <td>Petach Tikva, Israel</td>\n",
       "      <td>http://www.tevapharm.com</td>\n",
       "      <td>1</td>\n",
       "      <td>56960</td>\n",
       "      <td>33337</td>\n",
       "    </tr>\n",
       "    <tr>\n",
       "      <th>496</th>\n",
       "      <td>New China Life Insurance</td>\n",
       "      <td>497</td>\n",
       "      <td>21796</td>\n",
       "      <td>-13.3</td>\n",
       "      <td>743.9</td>\n",
       "      <td>100609</td>\n",
       "      <td>-45.6</td>\n",
       "      <td>Wan Feng</td>\n",
       "      <td>Insurance: Life, Health (stock)</td>\n",
       "      <td>Financials</td>\n",
       "      <td>427</td>\n",
       "      <td>China</td>\n",
       "      <td>Beijing, China</td>\n",
       "      <td>http://www.newchinalife.com</td>\n",
       "      <td>2</td>\n",
       "      <td>54378</td>\n",
       "      <td>8507</td>\n",
       "    </tr>\n",
       "    <tr>\n",
       "      <th>497</th>\n",
       "      <td>Wm. Morrison Supermarkets</td>\n",
       "      <td>498</td>\n",
       "      <td>21741</td>\n",
       "      <td>-11.3</td>\n",
       "      <td>406.4</td>\n",
       "      <td>11630</td>\n",
       "      <td>20.4</td>\n",
       "      <td>David T. Potts</td>\n",
       "      <td>Food and Drug Stores</td>\n",
       "      <td>Food &amp; Drug Stores</td>\n",
       "      <td>437</td>\n",
       "      <td>Britain</td>\n",
       "      <td>Bradford, Britain</td>\n",
       "      <td>http://www.morrisons.com</td>\n",
       "      <td>13</td>\n",
       "      <td>77210</td>\n",
       "      <td>5111</td>\n",
       "    </tr>\n",
       "    <tr>\n",
       "      <th>498</th>\n",
       "      <td>TUI</td>\n",
       "      <td>499</td>\n",
       "      <td>21655</td>\n",
       "      <td>-5.5</td>\n",
       "      <td>1151.7</td>\n",
       "      <td>16247</td>\n",
       "      <td>195.5</td>\n",
       "      <td>Friedrich Joussen</td>\n",
       "      <td>Travel Services</td>\n",
       "      <td>Business Services</td>\n",
       "      <td>467</td>\n",
       "      <td>Germany</td>\n",
       "      <td>Hanover, Germany</td>\n",
       "      <td>http://www.tuigroup.com</td>\n",
       "      <td>23</td>\n",
       "      <td>66779</td>\n",
       "      <td>3006</td>\n",
       "    </tr>\n",
       "    <tr>\n",
       "      <th>499</th>\n",
       "      <td>AutoNation</td>\n",
       "      <td>500</td>\n",
       "      <td>21609</td>\n",
       "      <td>3.6</td>\n",
       "      <td>430.5</td>\n",
       "      <td>10060</td>\n",
       "      <td>-2.7</td>\n",
       "      <td>Michael J. Jackson</td>\n",
       "      <td>Specialty Retailers</td>\n",
       "      <td>Retailing</td>\n",
       "      <td>0</td>\n",
       "      <td>USA</td>\n",
       "      <td>Fort Lauderdale, FL</td>\n",
       "      <td>http://www.autonation.com</td>\n",
       "      <td>12</td>\n",
       "      <td>26000</td>\n",
       "      <td>2310</td>\n",
       "    </tr>\n",
       "  </tbody>\n",
       "</table>\n",
       "<p>500 rows × 17 columns</p>\n",
       "</div>"
      ],
      "text/plain": [
       "                            company  rank  revenues  revenue_change  profits  \\\n",
       "0                           Walmart     1    485873             0.8  13643.0   \n",
       "1                        State Grid     2    315199            -4.4   9571.3   \n",
       "2                     Sinopec Group     3    267518            -9.1   1257.9   \n",
       "3          China National Petroleum     4    262573           -12.3   1867.5   \n",
       "4                      Toyota Motor     5    254694             7.7  16899.3   \n",
       "..                              ...   ...       ...             ...      ...   \n",
       "495  Teva Pharmaceutical Industries   496     21903            11.5    329.0   \n",
       "496        New China Life Insurance   497     21796           -13.3    743.9   \n",
       "497       Wm. Morrison Supermarkets   498     21741           -11.3    406.4   \n",
       "498                             TUI   499     21655            -5.5   1151.7   \n",
       "499                      AutoNation   500     21609             3.6    430.5   \n",
       "\n",
       "     assets  profit_change                  ceo  \\\n",
       "0    198825           -7.2  C. Douglas McMillon   \n",
       "1    489838           -6.2              Kou Wei   \n",
       "2    310726          -65.0            Wang Yupu   \n",
       "3    585619          -73.7        Zhang Jianhua   \n",
       "4    437575          -12.3          Akio Toyoda   \n",
       "..      ...            ...                  ...   \n",
       "495   92890          -79.3    Yitzhak Peterburg   \n",
       "496  100609          -45.6             Wan Feng   \n",
       "497   11630           20.4       David T. Potts   \n",
       "498   16247          195.5    Friedrich Joussen   \n",
       "499   10060           -2.7   Michael J. Jackson   \n",
       "\n",
       "                            industry                  sector  previous_rank  \\\n",
       "0              General Merchandisers               Retailing              1   \n",
       "1                          Utilities                  Energy              2   \n",
       "2                 Petroleum Refining                  Energy              4   \n",
       "3                 Petroleum Refining                  Energy              3   \n",
       "4           Motor Vehicles and Parts  Motor Vehicles & Parts              8   \n",
       "..                               ...                     ...            ...   \n",
       "495                  Pharmaceuticals             Health Care              0   \n",
       "496  Insurance: Life, Health (stock)              Financials            427   \n",
       "497             Food and Drug Stores      Food & Drug Stores            437   \n",
       "498                  Travel Services       Business Services            467   \n",
       "499              Specialty Retailers               Retailing              0   \n",
       "\n",
       "     country           hq_location                       website  \\\n",
       "0        USA       Bentonville, AR        http://www.walmart.com   \n",
       "1      China        Beijing, China        http://www.sgcc.com.cn   \n",
       "2      China        Beijing, China        http://www.sinopec.com   \n",
       "3      China        Beijing, China        http://www.cnpc.com.cn   \n",
       "4      Japan         Toyota, Japan  http://www.toyota-global.com   \n",
       "..       ...                   ...                           ...   \n",
       "495   Israel  Petach Tikva, Israel      http://www.tevapharm.com   \n",
       "496    China        Beijing, China   http://www.newchinalife.com   \n",
       "497  Britain     Bradford, Britain      http://www.morrisons.com   \n",
       "498  Germany      Hanover, Germany       http://www.tuigroup.com   \n",
       "499      USA   Fort Lauderdale, FL     http://www.autonation.com   \n",
       "\n",
       "     years_on_global_500_list  employees  total_stockholder_equity  \n",
       "0                          23    2300000                     77798  \n",
       "1                          17     926067                    209456  \n",
       "2                          19     713288                    106523  \n",
       "3                          17    1512048                    301893  \n",
       "4                          23     364445                    157210  \n",
       "..                        ...        ...                       ...  \n",
       "495                         1      56960                     33337  \n",
       "496                         2      54378                      8507  \n",
       "497                        13      77210                      5111  \n",
       "498                        23      66779                      3006  \n",
       "499                        12      26000                      2310  \n",
       "\n",
       "[500 rows x 17 columns]"
      ]
     },
     "execution_count": 59,
     "metadata": {},
     "output_type": "execute_result"
    }
   ],
   "source": [
    "f500"
   ]
  },
  {
   "cell_type": "code",
   "execution_count": 60,
   "metadata": {},
   "outputs": [],
   "source": [
    "f500 = pd.read_csv(\"f500.csv\", index_col = \"company\")"
   ]
  },
  {
   "cell_type": "code",
   "execution_count": 61,
   "metadata": {},
   "outputs": [
    {
     "data": {
      "text/html": [
       "<div>\n",
       "<style scoped>\n",
       "    .dataframe tbody tr th:only-of-type {\n",
       "        vertical-align: middle;\n",
       "    }\n",
       "\n",
       "    .dataframe tbody tr th {\n",
       "        vertical-align: top;\n",
       "    }\n",
       "\n",
       "    .dataframe thead th {\n",
       "        text-align: right;\n",
       "    }\n",
       "</style>\n",
       "<table border=\"1\" class=\"dataframe\">\n",
       "  <thead>\n",
       "    <tr style=\"text-align: right;\">\n",
       "      <th></th>\n",
       "      <th>rank</th>\n",
       "      <th>revenues</th>\n",
       "      <th>revenue_change</th>\n",
       "      <th>profits</th>\n",
       "      <th>assets</th>\n",
       "      <th>profit_change</th>\n",
       "      <th>ceo</th>\n",
       "      <th>industry</th>\n",
       "      <th>sector</th>\n",
       "      <th>previous_rank</th>\n",
       "      <th>country</th>\n",
       "      <th>hq_location</th>\n",
       "      <th>website</th>\n",
       "      <th>years_on_global_500_list</th>\n",
       "      <th>employees</th>\n",
       "      <th>total_stockholder_equity</th>\n",
       "    </tr>\n",
       "    <tr>\n",
       "      <th>company</th>\n",
       "      <th></th>\n",
       "      <th></th>\n",
       "      <th></th>\n",
       "      <th></th>\n",
       "      <th></th>\n",
       "      <th></th>\n",
       "      <th></th>\n",
       "      <th></th>\n",
       "      <th></th>\n",
       "      <th></th>\n",
       "      <th></th>\n",
       "      <th></th>\n",
       "      <th></th>\n",
       "      <th></th>\n",
       "      <th></th>\n",
       "      <th></th>\n",
       "    </tr>\n",
       "  </thead>\n",
       "  <tbody>\n",
       "    <tr>\n",
       "      <th>Walmart</th>\n",
       "      <td>1</td>\n",
       "      <td>485873</td>\n",
       "      <td>0.8</td>\n",
       "      <td>13643.0</td>\n",
       "      <td>198825</td>\n",
       "      <td>-7.2</td>\n",
       "      <td>C. Douglas McMillon</td>\n",
       "      <td>General Merchandisers</td>\n",
       "      <td>Retailing</td>\n",
       "      <td>1</td>\n",
       "      <td>USA</td>\n",
       "      <td>Bentonville, AR</td>\n",
       "      <td>http://www.walmart.com</td>\n",
       "      <td>23</td>\n",
       "      <td>2300000</td>\n",
       "      <td>77798</td>\n",
       "    </tr>\n",
       "    <tr>\n",
       "      <th>State Grid</th>\n",
       "      <td>2</td>\n",
       "      <td>315199</td>\n",
       "      <td>-4.4</td>\n",
       "      <td>9571.3</td>\n",
       "      <td>489838</td>\n",
       "      <td>-6.2</td>\n",
       "      <td>Kou Wei</td>\n",
       "      <td>Utilities</td>\n",
       "      <td>Energy</td>\n",
       "      <td>2</td>\n",
       "      <td>China</td>\n",
       "      <td>Beijing, China</td>\n",
       "      <td>http://www.sgcc.com.cn</td>\n",
       "      <td>17</td>\n",
       "      <td>926067</td>\n",
       "      <td>209456</td>\n",
       "    </tr>\n",
       "    <tr>\n",
       "      <th>Sinopec Group</th>\n",
       "      <td>3</td>\n",
       "      <td>267518</td>\n",
       "      <td>-9.1</td>\n",
       "      <td>1257.9</td>\n",
       "      <td>310726</td>\n",
       "      <td>-65.0</td>\n",
       "      <td>Wang Yupu</td>\n",
       "      <td>Petroleum Refining</td>\n",
       "      <td>Energy</td>\n",
       "      <td>4</td>\n",
       "      <td>China</td>\n",
       "      <td>Beijing, China</td>\n",
       "      <td>http://www.sinopec.com</td>\n",
       "      <td>19</td>\n",
       "      <td>713288</td>\n",
       "      <td>106523</td>\n",
       "    </tr>\n",
       "    <tr>\n",
       "      <th>China National Petroleum</th>\n",
       "      <td>4</td>\n",
       "      <td>262573</td>\n",
       "      <td>-12.3</td>\n",
       "      <td>1867.5</td>\n",
       "      <td>585619</td>\n",
       "      <td>-73.7</td>\n",
       "      <td>Zhang Jianhua</td>\n",
       "      <td>Petroleum Refining</td>\n",
       "      <td>Energy</td>\n",
       "      <td>3</td>\n",
       "      <td>China</td>\n",
       "      <td>Beijing, China</td>\n",
       "      <td>http://www.cnpc.com.cn</td>\n",
       "      <td>17</td>\n",
       "      <td>1512048</td>\n",
       "      <td>301893</td>\n",
       "    </tr>\n",
       "    <tr>\n",
       "      <th>Toyota Motor</th>\n",
       "      <td>5</td>\n",
       "      <td>254694</td>\n",
       "      <td>7.7</td>\n",
       "      <td>16899.3</td>\n",
       "      <td>437575</td>\n",
       "      <td>-12.3</td>\n",
       "      <td>Akio Toyoda</td>\n",
       "      <td>Motor Vehicles and Parts</td>\n",
       "      <td>Motor Vehicles &amp; Parts</td>\n",
       "      <td>8</td>\n",
       "      <td>Japan</td>\n",
       "      <td>Toyota, Japan</td>\n",
       "      <td>http://www.toyota-global.com</td>\n",
       "      <td>23</td>\n",
       "      <td>364445</td>\n",
       "      <td>157210</td>\n",
       "    </tr>\n",
       "    <tr>\n",
       "      <th>...</th>\n",
       "      <td>...</td>\n",
       "      <td>...</td>\n",
       "      <td>...</td>\n",
       "      <td>...</td>\n",
       "      <td>...</td>\n",
       "      <td>...</td>\n",
       "      <td>...</td>\n",
       "      <td>...</td>\n",
       "      <td>...</td>\n",
       "      <td>...</td>\n",
       "      <td>...</td>\n",
       "      <td>...</td>\n",
       "      <td>...</td>\n",
       "      <td>...</td>\n",
       "      <td>...</td>\n",
       "      <td>...</td>\n",
       "    </tr>\n",
       "    <tr>\n",
       "      <th>Teva Pharmaceutical Industries</th>\n",
       "      <td>496</td>\n",
       "      <td>21903</td>\n",
       "      <td>11.5</td>\n",
       "      <td>329.0</td>\n",
       "      <td>92890</td>\n",
       "      <td>-79.3</td>\n",
       "      <td>Yitzhak Peterburg</td>\n",
       "      <td>Pharmaceuticals</td>\n",
       "      <td>Health Care</td>\n",
       "      <td>0</td>\n",
       "      <td>Israel</td>\n",
       "      <td>Petach Tikva, Israel</td>\n",
       "      <td>http://www.tevapharm.com</td>\n",
       "      <td>1</td>\n",
       "      <td>56960</td>\n",
       "      <td>33337</td>\n",
       "    </tr>\n",
       "    <tr>\n",
       "      <th>New China Life Insurance</th>\n",
       "      <td>497</td>\n",
       "      <td>21796</td>\n",
       "      <td>-13.3</td>\n",
       "      <td>743.9</td>\n",
       "      <td>100609</td>\n",
       "      <td>-45.6</td>\n",
       "      <td>Wan Feng</td>\n",
       "      <td>Insurance: Life, Health (stock)</td>\n",
       "      <td>Financials</td>\n",
       "      <td>427</td>\n",
       "      <td>China</td>\n",
       "      <td>Beijing, China</td>\n",
       "      <td>http://www.newchinalife.com</td>\n",
       "      <td>2</td>\n",
       "      <td>54378</td>\n",
       "      <td>8507</td>\n",
       "    </tr>\n",
       "    <tr>\n",
       "      <th>Wm. Morrison Supermarkets</th>\n",
       "      <td>498</td>\n",
       "      <td>21741</td>\n",
       "      <td>-11.3</td>\n",
       "      <td>406.4</td>\n",
       "      <td>11630</td>\n",
       "      <td>20.4</td>\n",
       "      <td>David T. Potts</td>\n",
       "      <td>Food and Drug Stores</td>\n",
       "      <td>Food &amp; Drug Stores</td>\n",
       "      <td>437</td>\n",
       "      <td>Britain</td>\n",
       "      <td>Bradford, Britain</td>\n",
       "      <td>http://www.morrisons.com</td>\n",
       "      <td>13</td>\n",
       "      <td>77210</td>\n",
       "      <td>5111</td>\n",
       "    </tr>\n",
       "    <tr>\n",
       "      <th>TUI</th>\n",
       "      <td>499</td>\n",
       "      <td>21655</td>\n",
       "      <td>-5.5</td>\n",
       "      <td>1151.7</td>\n",
       "      <td>16247</td>\n",
       "      <td>195.5</td>\n",
       "      <td>Friedrich Joussen</td>\n",
       "      <td>Travel Services</td>\n",
       "      <td>Business Services</td>\n",
       "      <td>467</td>\n",
       "      <td>Germany</td>\n",
       "      <td>Hanover, Germany</td>\n",
       "      <td>http://www.tuigroup.com</td>\n",
       "      <td>23</td>\n",
       "      <td>66779</td>\n",
       "      <td>3006</td>\n",
       "    </tr>\n",
       "    <tr>\n",
       "      <th>AutoNation</th>\n",
       "      <td>500</td>\n",
       "      <td>21609</td>\n",
       "      <td>3.6</td>\n",
       "      <td>430.5</td>\n",
       "      <td>10060</td>\n",
       "      <td>-2.7</td>\n",
       "      <td>Michael J. Jackson</td>\n",
       "      <td>Specialty Retailers</td>\n",
       "      <td>Retailing</td>\n",
       "      <td>0</td>\n",
       "      <td>USA</td>\n",
       "      <td>Fort Lauderdale, FL</td>\n",
       "      <td>http://www.autonation.com</td>\n",
       "      <td>12</td>\n",
       "      <td>26000</td>\n",
       "      <td>2310</td>\n",
       "    </tr>\n",
       "  </tbody>\n",
       "</table>\n",
       "<p>500 rows × 16 columns</p>\n",
       "</div>"
      ],
      "text/plain": [
       "                                rank  revenues  revenue_change  profits  \\\n",
       "company                                                                   \n",
       "Walmart                            1    485873             0.8  13643.0   \n",
       "State Grid                         2    315199            -4.4   9571.3   \n",
       "Sinopec Group                      3    267518            -9.1   1257.9   \n",
       "China National Petroleum           4    262573           -12.3   1867.5   \n",
       "Toyota Motor                       5    254694             7.7  16899.3   \n",
       "...                              ...       ...             ...      ...   \n",
       "Teva Pharmaceutical Industries   496     21903            11.5    329.0   \n",
       "New China Life Insurance         497     21796           -13.3    743.9   \n",
       "Wm. Morrison Supermarkets        498     21741           -11.3    406.4   \n",
       "TUI                              499     21655            -5.5   1151.7   \n",
       "AutoNation                       500     21609             3.6    430.5   \n",
       "\n",
       "                                assets  profit_change                  ceo  \\\n",
       "company                                                                      \n",
       "Walmart                         198825           -7.2  C. Douglas McMillon   \n",
       "State Grid                      489838           -6.2              Kou Wei   \n",
       "Sinopec Group                   310726          -65.0            Wang Yupu   \n",
       "China National Petroleum        585619          -73.7        Zhang Jianhua   \n",
       "Toyota Motor                    437575          -12.3          Akio Toyoda   \n",
       "...                                ...            ...                  ...   \n",
       "Teva Pharmaceutical Industries   92890          -79.3    Yitzhak Peterburg   \n",
       "New China Life Insurance        100609          -45.6             Wan Feng   \n",
       "Wm. Morrison Supermarkets        11630           20.4       David T. Potts   \n",
       "TUI                              16247          195.5    Friedrich Joussen   \n",
       "AutoNation                       10060           -2.7   Michael J. Jackson   \n",
       "\n",
       "                                                       industry  \\\n",
       "company                                                           \n",
       "Walmart                                   General Merchandisers   \n",
       "State Grid                                            Utilities   \n",
       "Sinopec Group                                Petroleum Refining   \n",
       "China National Petroleum                     Petroleum Refining   \n",
       "Toyota Motor                           Motor Vehicles and Parts   \n",
       "...                                                         ...   \n",
       "Teva Pharmaceutical Industries                  Pharmaceuticals   \n",
       "New China Life Insurance        Insurance: Life, Health (stock)   \n",
       "Wm. Morrison Supermarkets                  Food and Drug Stores   \n",
       "TUI                                             Travel Services   \n",
       "AutoNation                                  Specialty Retailers   \n",
       "\n",
       "                                                sector  previous_rank  \\\n",
       "company                                                                 \n",
       "Walmart                                      Retailing              1   \n",
       "State Grid                                      Energy              2   \n",
       "Sinopec Group                                   Energy              4   \n",
       "China National Petroleum                        Energy              3   \n",
       "Toyota Motor                    Motor Vehicles & Parts              8   \n",
       "...                                                ...            ...   \n",
       "Teva Pharmaceutical Industries             Health Care              0   \n",
       "New China Life Insurance                    Financials            427   \n",
       "Wm. Morrison Supermarkets           Food & Drug Stores            437   \n",
       "TUI                                  Business Services            467   \n",
       "AutoNation                                   Retailing              0   \n",
       "\n",
       "                                country           hq_location  \\\n",
       "company                                                         \n",
       "Walmart                             USA       Bentonville, AR   \n",
       "State Grid                        China        Beijing, China   \n",
       "Sinopec Group                     China        Beijing, China   \n",
       "China National Petroleum          China        Beijing, China   \n",
       "Toyota Motor                      Japan         Toyota, Japan   \n",
       "...                                 ...                   ...   \n",
       "Teva Pharmaceutical Industries   Israel  Petach Tikva, Israel   \n",
       "New China Life Insurance          China        Beijing, China   \n",
       "Wm. Morrison Supermarkets       Britain     Bradford, Britain   \n",
       "TUI                             Germany      Hanover, Germany   \n",
       "AutoNation                          USA   Fort Lauderdale, FL   \n",
       "\n",
       "                                                     website  \\\n",
       "company                                                        \n",
       "Walmart                               http://www.walmart.com   \n",
       "State Grid                            http://www.sgcc.com.cn   \n",
       "Sinopec Group                         http://www.sinopec.com   \n",
       "China National Petroleum              http://www.cnpc.com.cn   \n",
       "Toyota Motor                    http://www.toyota-global.com   \n",
       "...                                                      ...   \n",
       "Teva Pharmaceutical Industries      http://www.tevapharm.com   \n",
       "New China Life Insurance         http://www.newchinalife.com   \n",
       "Wm. Morrison Supermarkets           http://www.morrisons.com   \n",
       "TUI                                  http://www.tuigroup.com   \n",
       "AutoNation                         http://www.autonation.com   \n",
       "\n",
       "                                years_on_global_500_list  employees  \\\n",
       "company                                                               \n",
       "Walmart                                               23    2300000   \n",
       "State Grid                                            17     926067   \n",
       "Sinopec Group                                         19     713288   \n",
       "China National Petroleum                              17    1512048   \n",
       "Toyota Motor                                          23     364445   \n",
       "...                                                  ...        ...   \n",
       "Teva Pharmaceutical Industries                         1      56960   \n",
       "New China Life Insurance                               2      54378   \n",
       "Wm. Morrison Supermarkets                             13      77210   \n",
       "TUI                                                   23      66779   \n",
       "AutoNation                                            12      26000   \n",
       "\n",
       "                                total_stockholder_equity  \n",
       "company                                                   \n",
       "Walmart                                            77798  \n",
       "State Grid                                        209456  \n",
       "Sinopec Group                                     106523  \n",
       "China National Petroleum                          301893  \n",
       "Toyota Motor                                      157210  \n",
       "...                                                  ...  \n",
       "Teva Pharmaceutical Industries                     33337  \n",
       "New China Life Insurance                            8507  \n",
       "Wm. Morrison Supermarkets                           5111  \n",
       "TUI                                                 3006  \n",
       "AutoNation                                          2310  \n",
       "\n",
       "[500 rows x 16 columns]"
      ]
     },
     "execution_count": 61,
     "metadata": {},
     "output_type": "execute_result"
    }
   ],
   "source": [
    "f500"
   ]
  },
  {
   "cell_type": "code",
   "execution_count": 62,
   "metadata": {},
   "outputs": [],
   "source": [
    "f500.index.name = None"
   ]
  },
  {
   "cell_type": "code",
   "execution_count": 63,
   "metadata": {},
   "outputs": [
    {
     "data": {
      "text/html": [
       "<div>\n",
       "<style scoped>\n",
       "    .dataframe tbody tr th:only-of-type {\n",
       "        vertical-align: middle;\n",
       "    }\n",
       "\n",
       "    .dataframe tbody tr th {\n",
       "        vertical-align: top;\n",
       "    }\n",
       "\n",
       "    .dataframe thead th {\n",
       "        text-align: right;\n",
       "    }\n",
       "</style>\n",
       "<table border=\"1\" class=\"dataframe\">\n",
       "  <thead>\n",
       "    <tr style=\"text-align: right;\">\n",
       "      <th></th>\n",
       "      <th>rank</th>\n",
       "      <th>revenues</th>\n",
       "      <th>revenue_change</th>\n",
       "      <th>profits</th>\n",
       "      <th>assets</th>\n",
       "      <th>profit_change</th>\n",
       "      <th>ceo</th>\n",
       "      <th>industry</th>\n",
       "      <th>sector</th>\n",
       "      <th>previous_rank</th>\n",
       "      <th>country</th>\n",
       "      <th>hq_location</th>\n",
       "      <th>website</th>\n",
       "      <th>years_on_global_500_list</th>\n",
       "      <th>employees</th>\n",
       "      <th>total_stockholder_equity</th>\n",
       "    </tr>\n",
       "  </thead>\n",
       "  <tbody>\n",
       "    <tr>\n",
       "      <th>Walmart</th>\n",
       "      <td>1</td>\n",
       "      <td>485873</td>\n",
       "      <td>0.8</td>\n",
       "      <td>13643.0</td>\n",
       "      <td>198825</td>\n",
       "      <td>-7.2</td>\n",
       "      <td>C. Douglas McMillon</td>\n",
       "      <td>General Merchandisers</td>\n",
       "      <td>Retailing</td>\n",
       "      <td>1</td>\n",
       "      <td>USA</td>\n",
       "      <td>Bentonville, AR</td>\n",
       "      <td>http://www.walmart.com</td>\n",
       "      <td>23</td>\n",
       "      <td>2300000</td>\n",
       "      <td>77798</td>\n",
       "    </tr>\n",
       "    <tr>\n",
       "      <th>State Grid</th>\n",
       "      <td>2</td>\n",
       "      <td>315199</td>\n",
       "      <td>-4.4</td>\n",
       "      <td>9571.3</td>\n",
       "      <td>489838</td>\n",
       "      <td>-6.2</td>\n",
       "      <td>Kou Wei</td>\n",
       "      <td>Utilities</td>\n",
       "      <td>Energy</td>\n",
       "      <td>2</td>\n",
       "      <td>China</td>\n",
       "      <td>Beijing, China</td>\n",
       "      <td>http://www.sgcc.com.cn</td>\n",
       "      <td>17</td>\n",
       "      <td>926067</td>\n",
       "      <td>209456</td>\n",
       "    </tr>\n",
       "    <tr>\n",
       "      <th>Sinopec Group</th>\n",
       "      <td>3</td>\n",
       "      <td>267518</td>\n",
       "      <td>-9.1</td>\n",
       "      <td>1257.9</td>\n",
       "      <td>310726</td>\n",
       "      <td>-65.0</td>\n",
       "      <td>Wang Yupu</td>\n",
       "      <td>Petroleum Refining</td>\n",
       "      <td>Energy</td>\n",
       "      <td>4</td>\n",
       "      <td>China</td>\n",
       "      <td>Beijing, China</td>\n",
       "      <td>http://www.sinopec.com</td>\n",
       "      <td>19</td>\n",
       "      <td>713288</td>\n",
       "      <td>106523</td>\n",
       "    </tr>\n",
       "    <tr>\n",
       "      <th>China National Petroleum</th>\n",
       "      <td>4</td>\n",
       "      <td>262573</td>\n",
       "      <td>-12.3</td>\n",
       "      <td>1867.5</td>\n",
       "      <td>585619</td>\n",
       "      <td>-73.7</td>\n",
       "      <td>Zhang Jianhua</td>\n",
       "      <td>Petroleum Refining</td>\n",
       "      <td>Energy</td>\n",
       "      <td>3</td>\n",
       "      <td>China</td>\n",
       "      <td>Beijing, China</td>\n",
       "      <td>http://www.cnpc.com.cn</td>\n",
       "      <td>17</td>\n",
       "      <td>1512048</td>\n",
       "      <td>301893</td>\n",
       "    </tr>\n",
       "    <tr>\n",
       "      <th>Toyota Motor</th>\n",
       "      <td>5</td>\n",
       "      <td>254694</td>\n",
       "      <td>7.7</td>\n",
       "      <td>16899.3</td>\n",
       "      <td>437575</td>\n",
       "      <td>-12.3</td>\n",
       "      <td>Akio Toyoda</td>\n",
       "      <td>Motor Vehicles and Parts</td>\n",
       "      <td>Motor Vehicles &amp; Parts</td>\n",
       "      <td>8</td>\n",
       "      <td>Japan</td>\n",
       "      <td>Toyota, Japan</td>\n",
       "      <td>http://www.toyota-global.com</td>\n",
       "      <td>23</td>\n",
       "      <td>364445</td>\n",
       "      <td>157210</td>\n",
       "    </tr>\n",
       "    <tr>\n",
       "      <th>...</th>\n",
       "      <td>...</td>\n",
       "      <td>...</td>\n",
       "      <td>...</td>\n",
       "      <td>...</td>\n",
       "      <td>...</td>\n",
       "      <td>...</td>\n",
       "      <td>...</td>\n",
       "      <td>...</td>\n",
       "      <td>...</td>\n",
       "      <td>...</td>\n",
       "      <td>...</td>\n",
       "      <td>...</td>\n",
       "      <td>...</td>\n",
       "      <td>...</td>\n",
       "      <td>...</td>\n",
       "      <td>...</td>\n",
       "    </tr>\n",
       "    <tr>\n",
       "      <th>Teva Pharmaceutical Industries</th>\n",
       "      <td>496</td>\n",
       "      <td>21903</td>\n",
       "      <td>11.5</td>\n",
       "      <td>329.0</td>\n",
       "      <td>92890</td>\n",
       "      <td>-79.3</td>\n",
       "      <td>Yitzhak Peterburg</td>\n",
       "      <td>Pharmaceuticals</td>\n",
       "      <td>Health Care</td>\n",
       "      <td>0</td>\n",
       "      <td>Israel</td>\n",
       "      <td>Petach Tikva, Israel</td>\n",
       "      <td>http://www.tevapharm.com</td>\n",
       "      <td>1</td>\n",
       "      <td>56960</td>\n",
       "      <td>33337</td>\n",
       "    </tr>\n",
       "    <tr>\n",
       "      <th>New China Life Insurance</th>\n",
       "      <td>497</td>\n",
       "      <td>21796</td>\n",
       "      <td>-13.3</td>\n",
       "      <td>743.9</td>\n",
       "      <td>100609</td>\n",
       "      <td>-45.6</td>\n",
       "      <td>Wan Feng</td>\n",
       "      <td>Insurance: Life, Health (stock)</td>\n",
       "      <td>Financials</td>\n",
       "      <td>427</td>\n",
       "      <td>China</td>\n",
       "      <td>Beijing, China</td>\n",
       "      <td>http://www.newchinalife.com</td>\n",
       "      <td>2</td>\n",
       "      <td>54378</td>\n",
       "      <td>8507</td>\n",
       "    </tr>\n",
       "    <tr>\n",
       "      <th>Wm. Morrison Supermarkets</th>\n",
       "      <td>498</td>\n",
       "      <td>21741</td>\n",
       "      <td>-11.3</td>\n",
       "      <td>406.4</td>\n",
       "      <td>11630</td>\n",
       "      <td>20.4</td>\n",
       "      <td>David T. Potts</td>\n",
       "      <td>Food and Drug Stores</td>\n",
       "      <td>Food &amp; Drug Stores</td>\n",
       "      <td>437</td>\n",
       "      <td>Britain</td>\n",
       "      <td>Bradford, Britain</td>\n",
       "      <td>http://www.morrisons.com</td>\n",
       "      <td>13</td>\n",
       "      <td>77210</td>\n",
       "      <td>5111</td>\n",
       "    </tr>\n",
       "    <tr>\n",
       "      <th>TUI</th>\n",
       "      <td>499</td>\n",
       "      <td>21655</td>\n",
       "      <td>-5.5</td>\n",
       "      <td>1151.7</td>\n",
       "      <td>16247</td>\n",
       "      <td>195.5</td>\n",
       "      <td>Friedrich Joussen</td>\n",
       "      <td>Travel Services</td>\n",
       "      <td>Business Services</td>\n",
       "      <td>467</td>\n",
       "      <td>Germany</td>\n",
       "      <td>Hanover, Germany</td>\n",
       "      <td>http://www.tuigroup.com</td>\n",
       "      <td>23</td>\n",
       "      <td>66779</td>\n",
       "      <td>3006</td>\n",
       "    </tr>\n",
       "    <tr>\n",
       "      <th>AutoNation</th>\n",
       "      <td>500</td>\n",
       "      <td>21609</td>\n",
       "      <td>3.6</td>\n",
       "      <td>430.5</td>\n",
       "      <td>10060</td>\n",
       "      <td>-2.7</td>\n",
       "      <td>Michael J. Jackson</td>\n",
       "      <td>Specialty Retailers</td>\n",
       "      <td>Retailing</td>\n",
       "      <td>0</td>\n",
       "      <td>USA</td>\n",
       "      <td>Fort Lauderdale, FL</td>\n",
       "      <td>http://www.autonation.com</td>\n",
       "      <td>12</td>\n",
       "      <td>26000</td>\n",
       "      <td>2310</td>\n",
       "    </tr>\n",
       "  </tbody>\n",
       "</table>\n",
       "<p>500 rows × 16 columns</p>\n",
       "</div>"
      ],
      "text/plain": [
       "                                rank  revenues  revenue_change  profits  \\\n",
       "Walmart                            1    485873             0.8  13643.0   \n",
       "State Grid                         2    315199            -4.4   9571.3   \n",
       "Sinopec Group                      3    267518            -9.1   1257.9   \n",
       "China National Petroleum           4    262573           -12.3   1867.5   \n",
       "Toyota Motor                       5    254694             7.7  16899.3   \n",
       "...                              ...       ...             ...      ...   \n",
       "Teva Pharmaceutical Industries   496     21903            11.5    329.0   \n",
       "New China Life Insurance         497     21796           -13.3    743.9   \n",
       "Wm. Morrison Supermarkets        498     21741           -11.3    406.4   \n",
       "TUI                              499     21655            -5.5   1151.7   \n",
       "AutoNation                       500     21609             3.6    430.5   \n",
       "\n",
       "                                assets  profit_change                  ceo  \\\n",
       "Walmart                         198825           -7.2  C. Douglas McMillon   \n",
       "State Grid                      489838           -6.2              Kou Wei   \n",
       "Sinopec Group                   310726          -65.0            Wang Yupu   \n",
       "China National Petroleum        585619          -73.7        Zhang Jianhua   \n",
       "Toyota Motor                    437575          -12.3          Akio Toyoda   \n",
       "...                                ...            ...                  ...   \n",
       "Teva Pharmaceutical Industries   92890          -79.3    Yitzhak Peterburg   \n",
       "New China Life Insurance        100609          -45.6             Wan Feng   \n",
       "Wm. Morrison Supermarkets        11630           20.4       David T. Potts   \n",
       "TUI                              16247          195.5    Friedrich Joussen   \n",
       "AutoNation                       10060           -2.7   Michael J. Jackson   \n",
       "\n",
       "                                                       industry  \\\n",
       "Walmart                                   General Merchandisers   \n",
       "State Grid                                            Utilities   \n",
       "Sinopec Group                                Petroleum Refining   \n",
       "China National Petroleum                     Petroleum Refining   \n",
       "Toyota Motor                           Motor Vehicles and Parts   \n",
       "...                                                         ...   \n",
       "Teva Pharmaceutical Industries                  Pharmaceuticals   \n",
       "New China Life Insurance        Insurance: Life, Health (stock)   \n",
       "Wm. Morrison Supermarkets                  Food and Drug Stores   \n",
       "TUI                                             Travel Services   \n",
       "AutoNation                                  Specialty Retailers   \n",
       "\n",
       "                                                sector  previous_rank  \\\n",
       "Walmart                                      Retailing              1   \n",
       "State Grid                                      Energy              2   \n",
       "Sinopec Group                                   Energy              4   \n",
       "China National Petroleum                        Energy              3   \n",
       "Toyota Motor                    Motor Vehicles & Parts              8   \n",
       "...                                                ...            ...   \n",
       "Teva Pharmaceutical Industries             Health Care              0   \n",
       "New China Life Insurance                    Financials            427   \n",
       "Wm. Morrison Supermarkets           Food & Drug Stores            437   \n",
       "TUI                                  Business Services            467   \n",
       "AutoNation                                   Retailing              0   \n",
       "\n",
       "                                country           hq_location  \\\n",
       "Walmart                             USA       Bentonville, AR   \n",
       "State Grid                        China        Beijing, China   \n",
       "Sinopec Group                     China        Beijing, China   \n",
       "China National Petroleum          China        Beijing, China   \n",
       "Toyota Motor                      Japan         Toyota, Japan   \n",
       "...                                 ...                   ...   \n",
       "Teva Pharmaceutical Industries   Israel  Petach Tikva, Israel   \n",
       "New China Life Insurance          China        Beijing, China   \n",
       "Wm. Morrison Supermarkets       Britain     Bradford, Britain   \n",
       "TUI                             Germany      Hanover, Germany   \n",
       "AutoNation                          USA   Fort Lauderdale, FL   \n",
       "\n",
       "                                                     website  \\\n",
       "Walmart                               http://www.walmart.com   \n",
       "State Grid                            http://www.sgcc.com.cn   \n",
       "Sinopec Group                         http://www.sinopec.com   \n",
       "China National Petroleum              http://www.cnpc.com.cn   \n",
       "Toyota Motor                    http://www.toyota-global.com   \n",
       "...                                                      ...   \n",
       "Teva Pharmaceutical Industries      http://www.tevapharm.com   \n",
       "New China Life Insurance         http://www.newchinalife.com   \n",
       "Wm. Morrison Supermarkets           http://www.morrisons.com   \n",
       "TUI                                  http://www.tuigroup.com   \n",
       "AutoNation                         http://www.autonation.com   \n",
       "\n",
       "                                years_on_global_500_list  employees  \\\n",
       "Walmart                                               23    2300000   \n",
       "State Grid                                            17     926067   \n",
       "Sinopec Group                                         19     713288   \n",
       "China National Petroleum                              17    1512048   \n",
       "Toyota Motor                                          23     364445   \n",
       "...                                                  ...        ...   \n",
       "Teva Pharmaceutical Industries                         1      56960   \n",
       "New China Life Insurance                               2      54378   \n",
       "Wm. Morrison Supermarkets                             13      77210   \n",
       "TUI                                                   23      66779   \n",
       "AutoNation                                            12      26000   \n",
       "\n",
       "                                total_stockholder_equity  \n",
       "Walmart                                            77798  \n",
       "State Grid                                        209456  \n",
       "Sinopec Group                                     106523  \n",
       "China National Petroleum                          301893  \n",
       "Toyota Motor                                      157210  \n",
       "...                                                  ...  \n",
       "Teva Pharmaceutical Industries                     33337  \n",
       "New China Life Insurance                            8507  \n",
       "Wm. Morrison Supermarkets                           5111  \n",
       "TUI                                                 3006  \n",
       "AutoNation                                          2310  \n",
       "\n",
       "[500 rows x 16 columns]"
      ]
     },
     "execution_count": 63,
     "metadata": {},
     "output_type": "execute_result"
    }
   ],
   "source": [
    "f500"
   ]
  },
  {
   "cell_type": "code",
   "execution_count": 64,
   "metadata": {},
   "outputs": [
    {
     "data": {
      "text/plain": [
       "pandas.core.frame.DataFrame"
      ]
     },
     "execution_count": 64,
     "metadata": {},
     "output_type": "execute_result"
    }
   ],
   "source": [
    "type(f500)"
   ]
  },
  {
   "cell_type": "code",
   "execution_count": 65,
   "metadata": {},
   "outputs": [
    {
     "data": {
      "text/html": [
       "<div>\n",
       "<style scoped>\n",
       "    .dataframe tbody tr th:only-of-type {\n",
       "        vertical-align: middle;\n",
       "    }\n",
       "\n",
       "    .dataframe tbody tr th {\n",
       "        vertical-align: top;\n",
       "    }\n",
       "\n",
       "    .dataframe thead th {\n",
       "        text-align: right;\n",
       "    }\n",
       "</style>\n",
       "<table border=\"1\" class=\"dataframe\">\n",
       "  <thead>\n",
       "    <tr style=\"text-align: right;\">\n",
       "      <th></th>\n",
       "      <th>rank</th>\n",
       "      <th>revenues</th>\n",
       "      <th>revenue_change</th>\n",
       "      <th>profits</th>\n",
       "      <th>assets</th>\n",
       "      <th>profit_change</th>\n",
       "      <th>ceo</th>\n",
       "      <th>industry</th>\n",
       "      <th>sector</th>\n",
       "      <th>previous_rank</th>\n",
       "      <th>country</th>\n",
       "      <th>hq_location</th>\n",
       "      <th>website</th>\n",
       "      <th>years_on_global_500_list</th>\n",
       "      <th>employees</th>\n",
       "      <th>total_stockholder_equity</th>\n",
       "    </tr>\n",
       "  </thead>\n",
       "  <tbody>\n",
       "    <tr>\n",
       "      <th>Walmart</th>\n",
       "      <td>1</td>\n",
       "      <td>485873</td>\n",
       "      <td>0.8</td>\n",
       "      <td>13643.0</td>\n",
       "      <td>198825</td>\n",
       "      <td>-7.2</td>\n",
       "      <td>C. Douglas McMillon</td>\n",
       "      <td>General Merchandisers</td>\n",
       "      <td>Retailing</td>\n",
       "      <td>1</td>\n",
       "      <td>USA</td>\n",
       "      <td>Bentonville, AR</td>\n",
       "      <td>http://www.walmart.com</td>\n",
       "      <td>23</td>\n",
       "      <td>2300000</td>\n",
       "      <td>77798</td>\n",
       "    </tr>\n",
       "    <tr>\n",
       "      <th>State Grid</th>\n",
       "      <td>2</td>\n",
       "      <td>315199</td>\n",
       "      <td>-4.4</td>\n",
       "      <td>9571.3</td>\n",
       "      <td>489838</td>\n",
       "      <td>-6.2</td>\n",
       "      <td>Kou Wei</td>\n",
       "      <td>Utilities</td>\n",
       "      <td>Energy</td>\n",
       "      <td>2</td>\n",
       "      <td>China</td>\n",
       "      <td>Beijing, China</td>\n",
       "      <td>http://www.sgcc.com.cn</td>\n",
       "      <td>17</td>\n",
       "      <td>926067</td>\n",
       "      <td>209456</td>\n",
       "    </tr>\n",
       "    <tr>\n",
       "      <th>Sinopec Group</th>\n",
       "      <td>3</td>\n",
       "      <td>267518</td>\n",
       "      <td>-9.1</td>\n",
       "      <td>1257.9</td>\n",
       "      <td>310726</td>\n",
       "      <td>-65.0</td>\n",
       "      <td>Wang Yupu</td>\n",
       "      <td>Petroleum Refining</td>\n",
       "      <td>Energy</td>\n",
       "      <td>4</td>\n",
       "      <td>China</td>\n",
       "      <td>Beijing, China</td>\n",
       "      <td>http://www.sinopec.com</td>\n",
       "      <td>19</td>\n",
       "      <td>713288</td>\n",
       "      <td>106523</td>\n",
       "    </tr>\n",
       "    <tr>\n",
       "      <th>China National Petroleum</th>\n",
       "      <td>4</td>\n",
       "      <td>262573</td>\n",
       "      <td>-12.3</td>\n",
       "      <td>1867.5</td>\n",
       "      <td>585619</td>\n",
       "      <td>-73.7</td>\n",
       "      <td>Zhang Jianhua</td>\n",
       "      <td>Petroleum Refining</td>\n",
       "      <td>Energy</td>\n",
       "      <td>3</td>\n",
       "      <td>China</td>\n",
       "      <td>Beijing, China</td>\n",
       "      <td>http://www.cnpc.com.cn</td>\n",
       "      <td>17</td>\n",
       "      <td>1512048</td>\n",
       "      <td>301893</td>\n",
       "    </tr>\n",
       "    <tr>\n",
       "      <th>Toyota Motor</th>\n",
       "      <td>5</td>\n",
       "      <td>254694</td>\n",
       "      <td>7.7</td>\n",
       "      <td>16899.3</td>\n",
       "      <td>437575</td>\n",
       "      <td>-12.3</td>\n",
       "      <td>Akio Toyoda</td>\n",
       "      <td>Motor Vehicles and Parts</td>\n",
       "      <td>Motor Vehicles &amp; Parts</td>\n",
       "      <td>8</td>\n",
       "      <td>Japan</td>\n",
       "      <td>Toyota, Japan</td>\n",
       "      <td>http://www.toyota-global.com</td>\n",
       "      <td>23</td>\n",
       "      <td>364445</td>\n",
       "      <td>157210</td>\n",
       "    </tr>\n",
       "  </tbody>\n",
       "</table>\n",
       "</div>"
      ],
      "text/plain": [
       "                          rank  revenues  revenue_change  profits  assets  \\\n",
       "Walmart                      1    485873             0.8  13643.0  198825   \n",
       "State Grid                   2    315199            -4.4   9571.3  489838   \n",
       "Sinopec Group                3    267518            -9.1   1257.9  310726   \n",
       "China National Petroleum     4    262573           -12.3   1867.5  585619   \n",
       "Toyota Motor                 5    254694             7.7  16899.3  437575   \n",
       "\n",
       "                          profit_change                  ceo  \\\n",
       "Walmart                            -7.2  C. Douglas McMillon   \n",
       "State Grid                         -6.2              Kou Wei   \n",
       "Sinopec Group                     -65.0            Wang Yupu   \n",
       "China National Petroleum          -73.7        Zhang Jianhua   \n",
       "Toyota Motor                      -12.3          Akio Toyoda   \n",
       "\n",
       "                                          industry                  sector  \\\n",
       "Walmart                      General Merchandisers               Retailing   \n",
       "State Grid                               Utilities                  Energy   \n",
       "Sinopec Group                   Petroleum Refining                  Energy   \n",
       "China National Petroleum        Petroleum Refining                  Energy   \n",
       "Toyota Motor              Motor Vehicles and Parts  Motor Vehicles & Parts   \n",
       "\n",
       "                          previous_rank country      hq_location  \\\n",
       "Walmart                               1     USA  Bentonville, AR   \n",
       "State Grid                            2   China   Beijing, China   \n",
       "Sinopec Group                         4   China   Beijing, China   \n",
       "China National Petroleum              3   China   Beijing, China   \n",
       "Toyota Motor                          8   Japan    Toyota, Japan   \n",
       "\n",
       "                                               website  \\\n",
       "Walmart                         http://www.walmart.com   \n",
       "State Grid                      http://www.sgcc.com.cn   \n",
       "Sinopec Group                   http://www.sinopec.com   \n",
       "China National Petroleum        http://www.cnpc.com.cn   \n",
       "Toyota Motor              http://www.toyota-global.com   \n",
       "\n",
       "                          years_on_global_500_list  employees  \\\n",
       "Walmart                                         23    2300000   \n",
       "State Grid                                      17     926067   \n",
       "Sinopec Group                                   19     713288   \n",
       "China National Petroleum                        17    1512048   \n",
       "Toyota Motor                                    23     364445   \n",
       "\n",
       "                          total_stockholder_equity  \n",
       "Walmart                                      77798  \n",
       "State Grid                                  209456  \n",
       "Sinopec Group                               106523  \n",
       "China National Petroleum                    301893  \n",
       "Toyota Motor                                157210  "
      ]
     },
     "execution_count": 65,
     "metadata": {},
     "output_type": "execute_result"
    }
   ],
   "source": [
    "f500.head()"
   ]
  },
  {
   "cell_type": "code",
   "execution_count": 66,
   "metadata": {},
   "outputs": [
    {
     "data": {
      "text/html": [
       "<div>\n",
       "<style scoped>\n",
       "    .dataframe tbody tr th:only-of-type {\n",
       "        vertical-align: middle;\n",
       "    }\n",
       "\n",
       "    .dataframe tbody tr th {\n",
       "        vertical-align: top;\n",
       "    }\n",
       "\n",
       "    .dataframe thead th {\n",
       "        text-align: right;\n",
       "    }\n",
       "</style>\n",
       "<table border=\"1\" class=\"dataframe\">\n",
       "  <thead>\n",
       "    <tr style=\"text-align: right;\">\n",
       "      <th></th>\n",
       "      <th>rank</th>\n",
       "      <th>revenues</th>\n",
       "      <th>revenue_change</th>\n",
       "      <th>profits</th>\n",
       "      <th>assets</th>\n",
       "      <th>profit_change</th>\n",
       "      <th>ceo</th>\n",
       "      <th>industry</th>\n",
       "      <th>sector</th>\n",
       "      <th>previous_rank</th>\n",
       "      <th>country</th>\n",
       "      <th>hq_location</th>\n",
       "      <th>website</th>\n",
       "      <th>years_on_global_500_list</th>\n",
       "      <th>employees</th>\n",
       "      <th>total_stockholder_equity</th>\n",
       "    </tr>\n",
       "  </thead>\n",
       "  <tbody>\n",
       "    <tr>\n",
       "      <th>Walmart</th>\n",
       "      <td>1</td>\n",
       "      <td>485873</td>\n",
       "      <td>0.8</td>\n",
       "      <td>13643.0</td>\n",
       "      <td>198825</td>\n",
       "      <td>-7.2</td>\n",
       "      <td>C. Douglas McMillon</td>\n",
       "      <td>General Merchandisers</td>\n",
       "      <td>Retailing</td>\n",
       "      <td>1</td>\n",
       "      <td>USA</td>\n",
       "      <td>Bentonville, AR</td>\n",
       "      <td>http://www.walmart.com</td>\n",
       "      <td>23</td>\n",
       "      <td>2300000</td>\n",
       "      <td>77798</td>\n",
       "    </tr>\n",
       "    <tr>\n",
       "      <th>State Grid</th>\n",
       "      <td>2</td>\n",
       "      <td>315199</td>\n",
       "      <td>-4.4</td>\n",
       "      <td>9571.3</td>\n",
       "      <td>489838</td>\n",
       "      <td>-6.2</td>\n",
       "      <td>Kou Wei</td>\n",
       "      <td>Utilities</td>\n",
       "      <td>Energy</td>\n",
       "      <td>2</td>\n",
       "      <td>China</td>\n",
       "      <td>Beijing, China</td>\n",
       "      <td>http://www.sgcc.com.cn</td>\n",
       "      <td>17</td>\n",
       "      <td>926067</td>\n",
       "      <td>209456</td>\n",
       "    </tr>\n",
       "  </tbody>\n",
       "</table>\n",
       "</div>"
      ],
      "text/plain": [
       "            rank  revenues  revenue_change  profits  assets  profit_change  \\\n",
       "Walmart        1    485873             0.8  13643.0  198825           -7.2   \n",
       "State Grid     2    315199            -4.4   9571.3  489838           -6.2   \n",
       "\n",
       "                            ceo               industry     sector  \\\n",
       "Walmart     C. Douglas McMillon  General Merchandisers  Retailing   \n",
       "State Grid              Kou Wei              Utilities     Energy   \n",
       "\n",
       "            previous_rank country      hq_location                 website  \\\n",
       "Walmart                 1     USA  Bentonville, AR  http://www.walmart.com   \n",
       "State Grid              2   China   Beijing, China  http://www.sgcc.com.cn   \n",
       "\n",
       "            years_on_global_500_list  employees  total_stockholder_equity  \n",
       "Walmart                           23    2300000                     77798  \n",
       "State Grid                        17     926067                    209456  "
      ]
     },
     "execution_count": 66,
     "metadata": {},
     "output_type": "execute_result"
    }
   ],
   "source": [
    "f500.head(2)"
   ]
  },
  {
   "cell_type": "code",
   "execution_count": 68,
   "metadata": {},
   "outputs": [
    {
     "data": {
      "text/html": [
       "<div>\n",
       "<style scoped>\n",
       "    .dataframe tbody tr th:only-of-type {\n",
       "        vertical-align: middle;\n",
       "    }\n",
       "\n",
       "    .dataframe tbody tr th {\n",
       "        vertical-align: top;\n",
       "    }\n",
       "\n",
       "    .dataframe thead th {\n",
       "        text-align: right;\n",
       "    }\n",
       "</style>\n",
       "<table border=\"1\" class=\"dataframe\">\n",
       "  <thead>\n",
       "    <tr style=\"text-align: right;\">\n",
       "      <th></th>\n",
       "      <th>rank</th>\n",
       "      <th>revenues</th>\n",
       "      <th>revenue_change</th>\n",
       "      <th>profits</th>\n",
       "      <th>assets</th>\n",
       "      <th>profit_change</th>\n",
       "      <th>ceo</th>\n",
       "      <th>industry</th>\n",
       "      <th>sector</th>\n",
       "      <th>previous_rank</th>\n",
       "      <th>country</th>\n",
       "      <th>hq_location</th>\n",
       "      <th>website</th>\n",
       "      <th>years_on_global_500_list</th>\n",
       "      <th>employees</th>\n",
       "      <th>total_stockholder_equity</th>\n",
       "    </tr>\n",
       "  </thead>\n",
       "  <tbody>\n",
       "    <tr>\n",
       "      <th>Teva Pharmaceutical Industries</th>\n",
       "      <td>496</td>\n",
       "      <td>21903</td>\n",
       "      <td>11.5</td>\n",
       "      <td>329.0</td>\n",
       "      <td>92890</td>\n",
       "      <td>-79.3</td>\n",
       "      <td>Yitzhak Peterburg</td>\n",
       "      <td>Pharmaceuticals</td>\n",
       "      <td>Health Care</td>\n",
       "      <td>0</td>\n",
       "      <td>Israel</td>\n",
       "      <td>Petach Tikva, Israel</td>\n",
       "      <td>http://www.tevapharm.com</td>\n",
       "      <td>1</td>\n",
       "      <td>56960</td>\n",
       "      <td>33337</td>\n",
       "    </tr>\n",
       "    <tr>\n",
       "      <th>New China Life Insurance</th>\n",
       "      <td>497</td>\n",
       "      <td>21796</td>\n",
       "      <td>-13.3</td>\n",
       "      <td>743.9</td>\n",
       "      <td>100609</td>\n",
       "      <td>-45.6</td>\n",
       "      <td>Wan Feng</td>\n",
       "      <td>Insurance: Life, Health (stock)</td>\n",
       "      <td>Financials</td>\n",
       "      <td>427</td>\n",
       "      <td>China</td>\n",
       "      <td>Beijing, China</td>\n",
       "      <td>http://www.newchinalife.com</td>\n",
       "      <td>2</td>\n",
       "      <td>54378</td>\n",
       "      <td>8507</td>\n",
       "    </tr>\n",
       "    <tr>\n",
       "      <th>Wm. Morrison Supermarkets</th>\n",
       "      <td>498</td>\n",
       "      <td>21741</td>\n",
       "      <td>-11.3</td>\n",
       "      <td>406.4</td>\n",
       "      <td>11630</td>\n",
       "      <td>20.4</td>\n",
       "      <td>David T. Potts</td>\n",
       "      <td>Food and Drug Stores</td>\n",
       "      <td>Food &amp; Drug Stores</td>\n",
       "      <td>437</td>\n",
       "      <td>Britain</td>\n",
       "      <td>Bradford, Britain</td>\n",
       "      <td>http://www.morrisons.com</td>\n",
       "      <td>13</td>\n",
       "      <td>77210</td>\n",
       "      <td>5111</td>\n",
       "    </tr>\n",
       "    <tr>\n",
       "      <th>TUI</th>\n",
       "      <td>499</td>\n",
       "      <td>21655</td>\n",
       "      <td>-5.5</td>\n",
       "      <td>1151.7</td>\n",
       "      <td>16247</td>\n",
       "      <td>195.5</td>\n",
       "      <td>Friedrich Joussen</td>\n",
       "      <td>Travel Services</td>\n",
       "      <td>Business Services</td>\n",
       "      <td>467</td>\n",
       "      <td>Germany</td>\n",
       "      <td>Hanover, Germany</td>\n",
       "      <td>http://www.tuigroup.com</td>\n",
       "      <td>23</td>\n",
       "      <td>66779</td>\n",
       "      <td>3006</td>\n",
       "    </tr>\n",
       "    <tr>\n",
       "      <th>AutoNation</th>\n",
       "      <td>500</td>\n",
       "      <td>21609</td>\n",
       "      <td>3.6</td>\n",
       "      <td>430.5</td>\n",
       "      <td>10060</td>\n",
       "      <td>-2.7</td>\n",
       "      <td>Michael J. Jackson</td>\n",
       "      <td>Specialty Retailers</td>\n",
       "      <td>Retailing</td>\n",
       "      <td>0</td>\n",
       "      <td>USA</td>\n",
       "      <td>Fort Lauderdale, FL</td>\n",
       "      <td>http://www.autonation.com</td>\n",
       "      <td>12</td>\n",
       "      <td>26000</td>\n",
       "      <td>2310</td>\n",
       "    </tr>\n",
       "  </tbody>\n",
       "</table>\n",
       "</div>"
      ],
      "text/plain": [
       "                                rank  revenues  revenue_change  profits  \\\n",
       "Teva Pharmaceutical Industries   496     21903            11.5    329.0   \n",
       "New China Life Insurance         497     21796           -13.3    743.9   \n",
       "Wm. Morrison Supermarkets        498     21741           -11.3    406.4   \n",
       "TUI                              499     21655            -5.5   1151.7   \n",
       "AutoNation                       500     21609             3.6    430.5   \n",
       "\n",
       "                                assets  profit_change                 ceo  \\\n",
       "Teva Pharmaceutical Industries   92890          -79.3   Yitzhak Peterburg   \n",
       "New China Life Insurance        100609          -45.6            Wan Feng   \n",
       "Wm. Morrison Supermarkets        11630           20.4      David T. Potts   \n",
       "TUI                              16247          195.5   Friedrich Joussen   \n",
       "AutoNation                       10060           -2.7  Michael J. Jackson   \n",
       "\n",
       "                                                       industry  \\\n",
       "Teva Pharmaceutical Industries                  Pharmaceuticals   \n",
       "New China Life Insurance        Insurance: Life, Health (stock)   \n",
       "Wm. Morrison Supermarkets                  Food and Drug Stores   \n",
       "TUI                                             Travel Services   \n",
       "AutoNation                                  Specialty Retailers   \n",
       "\n",
       "                                            sector  previous_rank  country  \\\n",
       "Teva Pharmaceutical Industries         Health Care              0   Israel   \n",
       "New China Life Insurance                Financials            427    China   \n",
       "Wm. Morrison Supermarkets       Food & Drug Stores            437  Britain   \n",
       "TUI                              Business Services            467  Germany   \n",
       "AutoNation                               Retailing              0      USA   \n",
       "\n",
       "                                         hq_location  \\\n",
       "Teva Pharmaceutical Industries  Petach Tikva, Israel   \n",
       "New China Life Insurance              Beijing, China   \n",
       "Wm. Morrison Supermarkets          Bradford, Britain   \n",
       "TUI                                 Hanover, Germany   \n",
       "AutoNation                       Fort Lauderdale, FL   \n",
       "\n",
       "                                                    website  \\\n",
       "Teva Pharmaceutical Industries     http://www.tevapharm.com   \n",
       "New China Life Insurance        http://www.newchinalife.com   \n",
       "Wm. Morrison Supermarkets          http://www.morrisons.com   \n",
       "TUI                                 http://www.tuigroup.com   \n",
       "AutoNation                        http://www.autonation.com   \n",
       "\n",
       "                                years_on_global_500_list  employees  \\\n",
       "Teva Pharmaceutical Industries                         1      56960   \n",
       "New China Life Insurance                               2      54378   \n",
       "Wm. Morrison Supermarkets                             13      77210   \n",
       "TUI                                                   23      66779   \n",
       "AutoNation                                            12      26000   \n",
       "\n",
       "                                total_stockholder_equity  \n",
       "Teva Pharmaceutical Industries                     33337  \n",
       "New China Life Insurance                            8507  \n",
       "Wm. Morrison Supermarkets                           5111  \n",
       "TUI                                                 3006  \n",
       "AutoNation                                          2310  "
      ]
     },
     "execution_count": 68,
     "metadata": {},
     "output_type": "execute_result"
    }
   ],
   "source": [
    "f500.tail()"
   ]
  },
  {
   "cell_type": "code",
   "execution_count": 69,
   "metadata": {},
   "outputs": [
    {
     "data": {
      "text/html": [
       "<div>\n",
       "<style scoped>\n",
       "    .dataframe tbody tr th:only-of-type {\n",
       "        vertical-align: middle;\n",
       "    }\n",
       "\n",
       "    .dataframe tbody tr th {\n",
       "        vertical-align: top;\n",
       "    }\n",
       "\n",
       "    .dataframe thead th {\n",
       "        text-align: right;\n",
       "    }\n",
       "</style>\n",
       "<table border=\"1\" class=\"dataframe\">\n",
       "  <thead>\n",
       "    <tr style=\"text-align: right;\">\n",
       "      <th></th>\n",
       "      <th>rank</th>\n",
       "      <th>revenues</th>\n",
       "      <th>revenue_change</th>\n",
       "      <th>profits</th>\n",
       "      <th>assets</th>\n",
       "      <th>profit_change</th>\n",
       "      <th>ceo</th>\n",
       "      <th>industry</th>\n",
       "      <th>sector</th>\n",
       "      <th>previous_rank</th>\n",
       "      <th>country</th>\n",
       "      <th>hq_location</th>\n",
       "      <th>website</th>\n",
       "      <th>years_on_global_500_list</th>\n",
       "      <th>employees</th>\n",
       "      <th>total_stockholder_equity</th>\n",
       "    </tr>\n",
       "  </thead>\n",
       "  <tbody>\n",
       "    <tr>\n",
       "      <th>TUI</th>\n",
       "      <td>499</td>\n",
       "      <td>21655</td>\n",
       "      <td>-5.5</td>\n",
       "      <td>1151.7</td>\n",
       "      <td>16247</td>\n",
       "      <td>195.5</td>\n",
       "      <td>Friedrich Joussen</td>\n",
       "      <td>Travel Services</td>\n",
       "      <td>Business Services</td>\n",
       "      <td>467</td>\n",
       "      <td>Germany</td>\n",
       "      <td>Hanover, Germany</td>\n",
       "      <td>http://www.tuigroup.com</td>\n",
       "      <td>23</td>\n",
       "      <td>66779</td>\n",
       "      <td>3006</td>\n",
       "    </tr>\n",
       "    <tr>\n",
       "      <th>AutoNation</th>\n",
       "      <td>500</td>\n",
       "      <td>21609</td>\n",
       "      <td>3.6</td>\n",
       "      <td>430.5</td>\n",
       "      <td>10060</td>\n",
       "      <td>-2.7</td>\n",
       "      <td>Michael J. Jackson</td>\n",
       "      <td>Specialty Retailers</td>\n",
       "      <td>Retailing</td>\n",
       "      <td>0</td>\n",
       "      <td>USA</td>\n",
       "      <td>Fort Lauderdale, FL</td>\n",
       "      <td>http://www.autonation.com</td>\n",
       "      <td>12</td>\n",
       "      <td>26000</td>\n",
       "      <td>2310</td>\n",
       "    </tr>\n",
       "  </tbody>\n",
       "</table>\n",
       "</div>"
      ],
      "text/plain": [
       "            rank  revenues  revenue_change  profits  assets  profit_change  \\\n",
       "TUI          499     21655            -5.5   1151.7   16247          195.5   \n",
       "AutoNation   500     21609             3.6    430.5   10060           -2.7   \n",
       "\n",
       "                           ceo             industry             sector  \\\n",
       "TUI          Friedrich Joussen      Travel Services  Business Services   \n",
       "AutoNation  Michael J. Jackson  Specialty Retailers          Retailing   \n",
       "\n",
       "            previous_rank  country          hq_location  \\\n",
       "TUI                   467  Germany     Hanover, Germany   \n",
       "AutoNation              0      USA  Fort Lauderdale, FL   \n",
       "\n",
       "                              website  years_on_global_500_list  employees  \\\n",
       "TUI           http://www.tuigroup.com                        23      66779   \n",
       "AutoNation  http://www.autonation.com                        12      26000   \n",
       "\n",
       "            total_stockholder_equity  \n",
       "TUI                             3006  \n",
       "AutoNation                      2310  "
      ]
     },
     "execution_count": 69,
     "metadata": {},
     "output_type": "execute_result"
    }
   ],
   "source": [
    "f500.tail(2)"
   ]
  },
  {
   "cell_type": "code",
   "execution_count": 70,
   "metadata": {},
   "outputs": [
    {
     "data": {
      "text/plain": [
       "rank                          int64\n",
       "revenues                      int64\n",
       "revenue_change              float64\n",
       "profits                     float64\n",
       "assets                        int64\n",
       "profit_change               float64\n",
       "ceo                          object\n",
       "industry                     object\n",
       "sector                       object\n",
       "previous_rank                 int64\n",
       "country                      object\n",
       "hq_location                  object\n",
       "website                      object\n",
       "years_on_global_500_list      int64\n",
       "employees                     int64\n",
       "total_stockholder_equity      int64\n",
       "dtype: object"
      ]
     },
     "execution_count": 70,
     "metadata": {},
     "output_type": "execute_result"
    }
   ],
   "source": [
    "f500.dtypes"
   ]
  },
  {
   "cell_type": "code",
   "execution_count": 71,
   "metadata": {},
   "outputs": [
    {
     "name": "stdout",
     "output_type": "stream",
     "text": [
      "<class 'pandas.core.frame.DataFrame'>\n",
      "Index: 500 entries, Walmart to AutoNation\n",
      "Data columns (total 16 columns):\n",
      " #   Column                    Non-Null Count  Dtype  \n",
      "---  ------                    --------------  -----  \n",
      " 0   rank                      500 non-null    int64  \n",
      " 1   revenues                  500 non-null    int64  \n",
      " 2   revenue_change            498 non-null    float64\n",
      " 3   profits                   499 non-null    float64\n",
      " 4   assets                    500 non-null    int64  \n",
      " 5   profit_change             436 non-null    float64\n",
      " 6   ceo                       500 non-null    object \n",
      " 7   industry                  500 non-null    object \n",
      " 8   sector                    500 non-null    object \n",
      " 9   previous_rank             500 non-null    int64  \n",
      " 10  country                   500 non-null    object \n",
      " 11  hq_location               500 non-null    object \n",
      " 12  website                   500 non-null    object \n",
      " 13  years_on_global_500_list  500 non-null    int64  \n",
      " 14  employees                 500 non-null    int64  \n",
      " 15  total_stockholder_equity  500 non-null    int64  \n",
      "dtypes: float64(3), int64(7), object(6)\n",
      "memory usage: 66.4+ KB\n"
     ]
    }
   ],
   "source": [
    "f500.info()"
   ]
  },
  {
   "cell_type": "code",
   "execution_count": 72,
   "metadata": {},
   "outputs": [
    {
     "data": {
      "text/plain": [
       "0.06484375"
      ]
     },
     "execution_count": 72,
     "metadata": {},
     "output_type": "execute_result"
    }
   ],
   "source": [
    "66.4/1024"
   ]
  },
  {
   "cell_type": "code",
   "execution_count": 75,
   "metadata": {},
   "outputs": [
    {
     "data": {
      "text/plain": [
       "66.40625"
      ]
     },
     "execution_count": 75,
     "metadata": {},
     "output_type": "execute_result"
    }
   ],
   "source": [
    "(500*17*8)/1024"
   ]
  },
  {
   "cell_type": "code",
   "execution_count": 76,
   "metadata": {},
   "outputs": [
    {
     "data": {
      "text/plain": [
       "rank                                            499\n",
       "revenues                                      21655\n",
       "revenue_change                                 -5.5\n",
       "profits                                      1151.7\n",
       "assets                                        16247\n",
       "profit_change                                 195.5\n",
       "ceo                               Friedrich Joussen\n",
       "industry                            Travel Services\n",
       "sector                            Business Services\n",
       "previous_rank                                   467\n",
       "country                                     Germany\n",
       "hq_location                        Hanover, Germany\n",
       "website                     http://www.tuigroup.com\n",
       "years_on_global_500_list                         23\n",
       "employees                                     66779\n",
       "total_stockholder_equity                       3006\n",
       "Name: TUI, dtype: object"
      ]
     },
     "execution_count": 76,
     "metadata": {},
     "output_type": "execute_result"
    }
   ],
   "source": [
    "f500.loc[\"TUI\"]"
   ]
  },
  {
   "cell_type": "code",
   "execution_count": 77,
   "metadata": {},
   "outputs": [
    {
     "data": {
      "text/plain": [
       "rank                                              500\n",
       "revenues                                        21609\n",
       "revenue_change                                    3.6\n",
       "profits                                         430.5\n",
       "assets                                          10060\n",
       "profit_change                                    -2.7\n",
       "ceo                                Michael J. Jackson\n",
       "industry                          Specialty Retailers\n",
       "sector                                      Retailing\n",
       "previous_rank                                       0\n",
       "country                                           USA\n",
       "hq_location                       Fort Lauderdale, FL\n",
       "website                     http://www.autonation.com\n",
       "years_on_global_500_list                           12\n",
       "employees                                       26000\n",
       "total_stockholder_equity                         2310\n",
       "Name: AutoNation, dtype: object"
      ]
     },
     "execution_count": 77,
     "metadata": {},
     "output_type": "execute_result"
    }
   ],
   "source": [
    "f500.iloc[499]"
   ]
  },
  {
   "cell_type": "code",
   "execution_count": 78,
   "metadata": {},
   "outputs": [],
   "source": [
    "#  API"
   ]
  },
  {
   "cell_type": "code",
   "execution_count": null,
   "metadata": {},
   "outputs": [],
   "source": []
  }
 ],
 "metadata": {
  "kernelspec": {
   "display_name": "Python 3 (ipykernel)",
   "language": "python",
   "name": "python3"
  },
  "language_info": {
   "codemirror_mode": {
    "name": "ipython",
    "version": 3
   },
   "file_extension": ".py",
   "mimetype": "text/x-python",
   "name": "python",
   "nbconvert_exporter": "python",
   "pygments_lexer": "ipython3",
   "version": "3.9.12"
  }
 },
 "nbformat": 4,
 "nbformat_minor": 4
}
