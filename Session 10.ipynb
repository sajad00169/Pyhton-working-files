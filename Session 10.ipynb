{
 "cells": [
  {
   "cell_type": "code",
   "execution_count": 1,
   "metadata": {},
   "outputs": [],
   "source": [
    "import csv"
   ]
  },
  {
   "cell_type": "code",
   "execution_count": 5,
   "metadata": {},
   "outputs": [],
   "source": [
    "nba = list(csv.reader(open(\"nba.csv\")))"
   ]
  },
  {
   "cell_type": "code",
   "execution_count": 6,
   "metadata": {},
   "outputs": [],
   "source": [
    "headers = nba[0]\n",
    "\n",
    "nba = nba[1:]"
   ]
  },
  {
   "cell_type": "code",
   "execution_count": 8,
   "metadata": {},
   "outputs": [
    {
     "name": "stdout",
     "output_type": "stream",
     "text": [
      "['player', 'pos', 'age', 'team', 'g', 'gs', 'mp', 'fg', 'fga', 'fg.', 'x3p', 'x3pa', 'x3p.', 'x2p', 'x2pa', 'x2p.', 'efg.', 'ft', 'fta', 'ft.', 'orb', 'drb', 'trb', 'ast', 'stl', 'blk', 'tov', 'pf', 'pts', 'season', 'season_end']\n",
      "\n",
      "[['Quincy Acy', 'SF', '23', 'TOT', '63', '0', '847', '66', '141', '0.468', '4', '15', '0.266666666666667', '62', '126', '0.492063492063492', '0.482', '35', '53', '0.66', '72', '144', '216', '28', '23', '26', '30', '122', '171', '2013-2014', '2013'], ['Steven Adams', 'C', '20', 'Oklahoma City Thunder', '81', '20', '1197', '93', '185', '0.503', '0', '0', 'NA', '93', '185', '0.502702702702703', '0.503', '79', '136', '0.581', '142', '190', '332', '43', '40', '57', '71', '203', '265', '2013-2014', '2013'], ['Jeff Adrien', 'PF', '27', 'TOT', '53', '12', '961', '143', '275', '0.52', '0', '0', 'NA', '143', '275', '0.52', '0.52', '76', '119', '0.639', '102', '204', '306', '38', '24', '36', '39', '108', '362', '2013-2014', '2013']]\n"
     ]
    }
   ],
   "source": [
    "print(headers)\n",
    "print()\n",
    "print(nba[:3])"
   ]
  },
  {
   "cell_type": "code",
   "execution_count": 11,
   "metadata": {},
   "outputs": [
    {
     "name": "stdout",
     "output_type": "stream",
     "text": [
      "['Kobe Bryant', 'SG', '35', 'Los Angeles Lakers', '6', '6', '177', '31', '73', '0.425', '3', '16', '0.1875', '28', '57', '0.491228070175439', '0.445', '18', '21', '0.857', '2', '24', '26', '38', '7', '1', '34', '9', '83', '2013-2014', '2013']\n"
     ]
    }
   ],
   "source": [
    "print(nba[68])"
   ]
  },
  {
   "cell_type": "code",
   "execution_count": 12,
   "metadata": {},
   "outputs": [],
   "source": [
    "class Player():\n",
    "    def __init__(self, row): # construtor, dunder method\n",
    "        self.player_name =row[0]\n",
    "        self.position =row[1]\n",
    "        self.age =int(row[2])\n",
    "        self.team =row[3]"
   ]
  },
  {
   "cell_type": "code",
   "execution_count": 13,
   "metadata": {},
   "outputs": [],
   "source": [
    "ff_info = Player(nba[55])"
   ]
  },
  {
   "cell_type": "code",
   "execution_count": 15,
   "metadata": {},
   "outputs": [
    {
     "data": {
      "text/plain": [
       "'Andrew Bogut'"
      ]
     },
     "execution_count": 15,
     "metadata": {},
     "output_type": "execute_result"
    }
   ],
   "source": [
    "ff_info.player_name"
   ]
  },
  {
   "cell_type": "code",
   "execution_count": 16,
   "metadata": {},
   "outputs": [
    {
     "data": {
      "text/plain": [
       "'Golden State Warriors'"
      ]
     },
     "execution_count": 16,
     "metadata": {},
     "output_type": "execute_result"
    }
   ],
   "source": [
    "ff_info.team"
   ]
  },
  {
   "cell_type": "code",
   "execution_count": 17,
   "metadata": {},
   "outputs": [],
   "source": [
    "class Team():\n",
    "    def __init__(self, team_name):\n",
    "        self.name =team_name"
   ]
  },
  {
   "cell_type": "code",
   "execution_count": 18,
   "metadata": {},
   "outputs": [],
   "source": [
    "gsw = Team('Golden State Warriors')"
   ]
  },
  {
   "cell_type": "code",
   "execution_count": 19,
   "metadata": {},
   "outputs": [
    {
     "data": {
      "text/plain": [
       "'Golden State Warriors'"
      ]
     },
     "execution_count": 19,
     "metadata": {},
     "output_type": "execute_result"
    }
   ],
   "source": [
    "gsw.name"
   ]
  },
  {
   "cell_type": "code",
   "execution_count": null,
   "metadata": {},
   "outputs": [],
   "source": [
    "class Team():\n",
    "    def __init__(self, team_name):\n",
    "        self.name =team_name"
   ]
  },
  {
   "cell_type": "code",
   "execution_count": 21,
   "metadata": {},
   "outputs": [],
   "source": [
    "# import pandas as pd"
   ]
  },
  {
   "cell_type": "code",
   "execution_count": null,
   "metadata": {},
   "outputs": [],
   "source": [
    "# pd.groupby()\n",
    "\n",
    "# pd.pivot_table()"
   ]
  },
  {
   "cell_type": "code",
   "execution_count": 22,
   "metadata": {},
   "outputs": [],
   "source": [
    "class Team():\n",
    "    def __init__(self, team_name):\n",
    "        self.name =team_name\n",
    "        self.info = []\n",
    "        for row in nba:\n",
    "            if row[3] == self.name:\n",
    "                self.info.append(Player(row))"
   ]
  },
  {
   "cell_type": "code",
   "execution_count": 23,
   "metadata": {},
   "outputs": [],
   "source": [
    "lal = Team('Los Angeles Lakers')"
   ]
  },
  {
   "cell_type": "code",
   "execution_count": 24,
   "metadata": {},
   "outputs": [
    {
     "data": {
      "text/plain": [
       "'Los Angeles Lakers'"
      ]
     },
     "execution_count": 24,
     "metadata": {},
     "output_type": "execute_result"
    }
   ],
   "source": [
    "lal.name"
   ]
  },
  {
   "cell_type": "code",
   "execution_count": 26,
   "metadata": {},
   "outputs": [
    {
     "data": {
      "text/plain": [
       "16"
      ]
     },
     "execution_count": 26,
     "metadata": {},
     "output_type": "execute_result"
    }
   ],
   "source": [
    "len(lal.info)"
   ]
  },
  {
   "cell_type": "code",
   "execution_count": 27,
   "metadata": {},
   "outputs": [],
   "source": [
    "lal_data = lal.info"
   ]
  },
  {
   "cell_type": "code",
   "execution_count": 28,
   "metadata": {},
   "outputs": [
    {
     "name": "stdout",
     "output_type": "stream",
     "text": [
      "[<__main__.Player object at 0x00000148C702B5C8>, <__main__.Player object at 0x00000148C702B608>, <__main__.Player object at 0x00000148C702BD88>, <__main__.Player object at 0x00000148C702BD48>, <__main__.Player object at 0x00000148C702BA08>, <__main__.Player object at 0x00000148C702BA48>, <__main__.Player object at 0x00000148C702BD08>, <__main__.Player object at 0x00000148C702BDC8>, <__main__.Player object at 0x00000148C702BE08>, <__main__.Player object at 0x00000148C702B948>, <__main__.Player object at 0x00000148C702BE48>, <__main__.Player object at 0x00000148C702BE88>, <__main__.Player object at 0x00000148C702BEC8>, <__main__.Player object at 0x00000148C702BF08>, <__main__.Player object at 0x00000148C702BF48>, <__main__.Player object at 0x00000148C702BF88>]\n"
     ]
    }
   ],
   "source": [
    "print(lal_data)"
   ]
  },
  {
   "cell_type": "code",
   "execution_count": 29,
   "metadata": {},
   "outputs": [
    {
     "name": "stdout",
     "output_type": "stream",
     "text": [
      "Kobe Bryant\n",
      "Jordan Farmar\n",
      "Pau Gasol\n",
      "Elias Harris\n",
      "Manny Harris\n",
      "Xavier Henry\n",
      "Jordan Hill\n",
      "Wesley Johnson\n",
      "Chris Kaman\n",
      "Ryan Kelly\n",
      "Kendall Marshall\n",
      "Jodie Meeks\n",
      "Steve Nash\n",
      "Robert Sacre\n",
      "Shawne Williams\n",
      "Nick Young\n"
     ]
    }
   ],
   "source": [
    "for ins in lal_data:\n",
    "    print(ins.player_name)"
   ]
  },
  {
   "cell_type": "code",
   "execution_count": 30,
   "metadata": {},
   "outputs": [
    {
     "name": "stdout",
     "output_type": "stream",
     "text": [
      "Kobe Bryant\n",
      "SG\n",
      "35\n",
      "Los Angeles Lakers\n",
      "------------------------------\n",
      "Jordan Farmar\n",
      "PG\n",
      "27\n",
      "Los Angeles Lakers\n",
      "------------------------------\n",
      "Pau Gasol\n",
      "C\n",
      "33\n",
      "Los Angeles Lakers\n",
      "------------------------------\n"
     ]
    }
   ],
   "source": [
    "for ins in lal_data[:3]:\n",
    "    print(ins.player_name)\n",
    "    print(ins.position)\n",
    "    print(ins.age)\n",
    "    print(ins.team)\n",
    "    print(\"-\"*30)"
   ]
  },
  {
   "cell_type": "code",
   "execution_count": null,
   "metadata": {},
   "outputs": [],
   "source": [
    "class Team():\n",
    "    def __init__(self, team_name):\n",
    "        self.name =team_name\n",
    "        self.info = []\n",
    "        for row in nba:\n",
    "            if row[3] == self.name:\n",
    "                self.info.append(Player(row)) # [row[0], row[1], row[2], row[3]"
   ]
  },
  {
   "cell_type": "code",
   "execution_count": 32,
   "metadata": {},
   "outputs": [],
   "source": [
    "teams = []\n",
    "\n",
    "for row in nba:\n",
    "    teams.append(row[3])"
   ]
  },
  {
   "cell_type": "code",
   "execution_count": 33,
   "metadata": {},
   "outputs": [],
   "source": [
    "team_names = list(set(teams))"
   ]
  },
  {
   "cell_type": "code",
   "execution_count": 36,
   "metadata": {},
   "outputs": [
    {
     "name": "stdout",
     "output_type": "stream",
     "text": [
      "['Los Angeles Lakers', 'Phoenix Suns', 'Dallas Mavericks', 'Philadelphia 76ers', 'Los Angeles Clippers', 'Utah Jazz', 'Oklahoma City Thunder', 'Houston Rockets', 'Orlando Magic', 'Cleveland Cavaliers', 'New York Knicks', 'Charlotte Hornets', 'New Orleans Pelicans', 'Miami Heat', 'Atlanta Hawks', 'TOT', 'Indiana Pacers', 'Washington Wizards', 'Detroit Pistons', 'Boston Celtics', 'Minnesota Timberwolves', 'Brooklyn Nets', 'Milwaukee Bucks', 'Toronto Raptors', 'Golden State Warriors', 'Portland Trail Blazers', 'San Antonio Spurs', 'Chicago Bulls', 'Sacramento Kings', 'Memphis Grizzlies', 'Denver Nuggets']\n"
     ]
    }
   ],
   "source": [
    "print(team_names )"
   ]
  },
  {
   "cell_type": "code",
   "execution_count": 37,
   "metadata": {},
   "outputs": [],
   "source": [
    "class Team():\n",
    "    def __init__(self, team_name): # attribute, constructor,dunder\n",
    "        self.name =team_name\n",
    "        self.info = []\n",
    "        for row in nba:\n",
    "            if row[3] == self.name:\n",
    "                self.info.append(Player(row))\n",
    "                \n",
    "    def num_player(self): # Method\n",
    "        count = 0  # count = len(self.info)\n",
    "        for i in self.info:\n",
    "            count += 1\n",
    "        return count"
   ]
  },
  {
   "cell_type": "code",
   "execution_count": 38,
   "metadata": {},
   "outputs": [
    {
     "data": {
      "text/plain": [
       "16"
      ]
     },
     "execution_count": 38,
     "metadata": {},
     "output_type": "execute_result"
    }
   ],
   "source": [
    "Team('Los Angeles Lakers').num_player()"
   ]
  },
  {
   "cell_type": "code",
   "execution_count": 39,
   "metadata": {},
   "outputs": [],
   "source": [
    "class Player():\n",
    "    def __init__(self, row): # construtor, dunder method\n",
    "        self.player_name =row[0]\n",
    "        self.position =row[1]\n",
    "        self.age =int(row[2])\n",
    "        self.team =row[3]\n",
    "\n",
    "class Team():\n",
    "    def __init__(self, team_name): # attribute, constructor,dunder\n",
    "        self.name =team_name\n",
    "        self.info = []\n",
    "        for row in nba:\n",
    "            if row[3] == self.name:\n",
    "                self.info.append(Player(row))\n",
    "                \n",
    "    def num_player(self): # Method\n",
    "        count = 0  # count = len(self.info)\n",
    "        for i in self.info:\n",
    "            count += 1\n",
    "        return count\n",
    "    \n",
    "    def average_age(self):\n",
    "        total_ages = 0\n",
    "        for ins in self.info:\n",
    "            age = ins.age\n",
    "            total_ages += age\n",
    "            \n",
    "        avg = total_ages/self.num_player()\n",
    "        return avg"
   ]
  },
  {
   "cell_type": "code",
   "execution_count": 40,
   "metadata": {},
   "outputs": [
    {
     "data": {
      "text/plain": [
       "27.25"
      ]
     },
     "execution_count": 40,
     "metadata": {},
     "output_type": "execute_result"
    }
   ],
   "source": [
    "Team('Los Angeles Lakers').average_age()"
   ]
  },
  {
   "cell_type": "code",
   "execution_count": 46,
   "metadata": {},
   "outputs": [
    {
     "name": "stdout",
     "output_type": "stream",
     "text": [
      "27.25\n",
      "25.87\n",
      "28.2\n",
      "23.0\n",
      "29.12\n",
      "25.88\n",
      "26.88\n",
      "25.13\n",
      "25.08\n",
      "24.14\n",
      "28.2\n",
      "25.85\n",
      "25.39\n",
      "30.6\n",
      "26.4\n",
      "26.41\n",
      "27.75\n",
      "26.21\n",
      "25.6\n",
      "25.29\n",
      "26.07\n",
      "29.8\n",
      "24.15\n",
      "25.2\n",
      "26.33\n",
      "25.4\n",
      "28.43\n",
      "29.27\n",
      "24.89\n",
      "27.23\n",
      "25.33\n"
     ]
    }
   ],
   "source": [
    "# dir()\n",
    "\n",
    "for name in team_names:\n",
    "    print(round(Team(name).average_age(),2))"
   ]
  },
  {
   "cell_type": "code",
   "execution_count": 49,
   "metadata": {},
   "outputs": [
    {
     "name": "stdout",
     "output_type": "stream",
     "text": [
      "['Los Angeles Lakers', 'Phoenix Suns', 'Dallas Mavericks', 'Philadelphia 76ers', 'Los Angeles Clippers', 'Utah Jazz', 'Oklahoma City Thunder', 'Houston Rockets', 'Orlando Magic', 'Cleveland Cavaliers', 'New York Knicks', 'Charlotte Hornets', 'New Orleans Pelicans', 'Miami Heat', 'Atlanta Hawks', 'TOT', 'Indiana Pacers', 'Washington Wizards', 'Detroit Pistons', 'Boston Celtics', 'Minnesota Timberwolves', 'Brooklyn Nets', 'Milwaukee Bucks', 'Toronto Raptors', 'Golden State Warriors', 'Portland Trail Blazers', 'San Antonio Spurs', 'Chicago Bulls', 'Sacramento Kings', 'Memphis Grizzlies', 'Denver Nuggets']\n"
     ]
    }
   ],
   "source": [
    "print(team_names)"
   ]
  },
  {
   "cell_type": "code",
   "execution_count": 53,
   "metadata": {},
   "outputs": [],
   "source": [
    "class Player():\n",
    "    def __init__(self, row): # construtor, dunder method\n",
    "        self.player_name =row[0]\n",
    "        self.position =row[1]\n",
    "        self.age =int(row[2])\n",
    "        self.team =row[3]\n",
    "\n",
    "class Team():\n",
    "    def __init__(self, team_name): # attribute, constructor,dunder\n",
    "        self.name =team_name\n",
    "        self.info = []\n",
    "        for row in nba:\n",
    "            if row[3] == self.name:\n",
    "                self.info.append(Player(row))\n",
    "                \n",
    "    def num_player(self): # Method\n",
    "        count = 0  # count = len(self.info)\n",
    "        for i in self.info:\n",
    "            count += 1\n",
    "        return count\n",
    "    \n",
    "    def average_age(self):\n",
    "        total_ages = 0\n",
    "        for ins in self.info:\n",
    "            age = ins.age\n",
    "            total_ages += age\n",
    "            \n",
    "        avg = total_ages/self.num_player()\n",
    "        return avg\n",
    "    \n",
    "    @classmethod # decorator\n",
    "    def older_team(self, team1, team2):\n",
    "        if team1.average_age()> team2.average_age():\n",
    "            return team1\n",
    "        else:\n",
    "            return team2"
   ]
  },
  {
   "cell_type": "code",
   "execution_count": 55,
   "metadata": {},
   "outputs": [],
   "source": [
    "# Team('TOT')\n",
    "result = Team.older_team(Team('Dallas Mavericks'), Team('Utah Jazz'))"
   ]
  },
  {
   "cell_type": "code",
   "execution_count": 56,
   "metadata": {},
   "outputs": [
    {
     "data": {
      "text/plain": [
       "<__main__.Team at 0x148c807f148>"
      ]
     },
     "execution_count": 56,
     "metadata": {},
     "output_type": "execute_result"
    }
   ],
   "source": [
    "result"
   ]
  },
  {
   "cell_type": "code",
   "execution_count": 57,
   "metadata": {},
   "outputs": [
    {
     "data": {
      "text/plain": [
       "'Dallas Mavericks'"
      ]
     },
     "execution_count": 57,
     "metadata": {},
     "output_type": "execute_result"
    }
   ],
   "source": [
    "result.name"
   ]
  },
  {
   "cell_type": "code",
   "execution_count": 58,
   "metadata": {},
   "outputs": [
    {
     "data": {
      "text/plain": [
       "28.2"
      ]
     },
     "execution_count": 58,
     "metadata": {},
     "output_type": "execute_result"
    }
   ],
   "source": [
    "Team('Dallas Mavericks').average_age()"
   ]
  },
  {
   "cell_type": "code",
   "execution_count": 59,
   "metadata": {},
   "outputs": [
    {
     "data": {
      "text/plain": [
       "25.875"
      ]
     },
     "execution_count": 59,
     "metadata": {},
     "output_type": "execute_result"
    }
   ],
   "source": [
    "Team('Utah Jazz').average_age()"
   ]
  },
  {
   "cell_type": "code",
   "execution_count": 60,
   "metadata": {},
   "outputs": [],
   "source": [
    "class Player(object):\n",
    "    def __init__(self, row): # construtor, dunder method\n",
    "        self.player_name =row[0]\n",
    "        self.position =row[1]\n",
    "        self.age =int(row[2])\n",
    "        self.team =row[3]\n",
    "\n",
    "class Team(object):\n",
    "    def __init__(self, team_name): # attribute, constructor,dunder\n",
    "        self.name =team_name\n",
    "        self.info = []\n",
    "        for row in nba:\n",
    "            if row[3] == self.name:\n",
    "                self.info.append(Player(row))\n",
    "                \n",
    "    def num_player(self): # Method\n",
    "        count = 0  # count = len(self.info)\n",
    "        for i in self.info:\n",
    "            count += 1\n",
    "        return count\n",
    "    \n",
    "    def average_age(self):\n",
    "        total_ages = 0\n",
    "        for ins in self.info:\n",
    "            age = ins.age\n",
    "            total_ages += age\n",
    "            \n",
    "        avg = total_ages/self.num_player()\n",
    "        return avg\n",
    "    \n",
    "#     @classmethod # decorator\n",
    "#     def older_team(self, team1, team2):\n",
    "#         if team1.average_age()> team2.average_age():\n",
    "#             return team1\n",
    "#         else:\n",
    "#             return team2\n",
    "\n",
    "    def __gt__(self, other):\n",
    "        return self.average_age() > other.average_age()\n",
    "    def __ge__(self, other):\n",
    "        return self.average_age() >= other.average_age()\n",
    "    \n",
    "    def __lt__(self, other):\n",
    "        return self.average_age() < other.average_age()\n",
    "    \n",
    "    def __le__(self, other):\n",
    "        return self.average_age() <= other.average_age()\n",
    "    \n",
    "    def __eq__(self, other):\n",
    "        return self.average_age() == other.average_age()\n",
    "    \n",
    "    def __ne__(self, other):\n",
    "        return self.average_age() != other.average_age()  "
   ]
  },
  {
   "cell_type": "code",
   "execution_count": 61,
   "metadata": {},
   "outputs": [
    {
     "name": "stdout",
     "output_type": "stream",
     "text": [
      "['__add__', '__class__', '__contains__', '__delattr__', '__delitem__', '__dir__', '__doc__', '__eq__', '__format__', '__ge__', '__getattribute__', '__getitem__', '__gt__', '__hash__', '__iadd__', '__imul__', '__init__', '__init_subclass__', '__iter__', '__le__', '__len__', '__lt__', '__mul__', '__ne__', '__new__', '__reduce__', '__reduce_ex__', '__repr__', '__reversed__', '__rmul__', '__setattr__', '__setitem__', '__sizeof__', '__str__', '__subclasshook__', 'append', 'clear', 'copy', 'count', 'extend', 'index', 'insert', 'pop', 'remove', 'reverse', 'sort']\n"
     ]
    }
   ],
   "source": [
    "print(dir([]))"
   ]
  },
  {
   "cell_type": "code",
   "execution_count": 62,
   "metadata": {},
   "outputs": [
    {
     "name": "stdout",
     "output_type": "stream",
     "text": [
      "['__class__', '__contains__', '__delattr__', '__delitem__', '__dir__', '__doc__', '__eq__', '__format__', '__ge__', '__getattribute__', '__getitem__', '__gt__', '__hash__', '__init__', '__init_subclass__', '__iter__', '__le__', '__len__', '__lt__', '__ne__', '__new__', '__reduce__', '__reduce_ex__', '__repr__', '__setattr__', '__setitem__', '__sizeof__', '__str__', '__subclasshook__', 'clear', 'copy', 'fromkeys', 'get', 'items', 'keys', 'pop', 'popitem', 'setdefault', 'update', 'values']\n"
     ]
    }
   ],
   "source": [
    "print(dir({}))"
   ]
  },
  {
   "cell_type": "code",
   "execution_count": 63,
   "metadata": {},
   "outputs": [],
   "source": [
    "# class Aqua(Toyota)\n",
    "\n",
    "\n",
    "# def boy(Father): # overloading\n",
    "#     def smoke():\n",
    "#         return \"3 in a day\""
   ]
  },
  {
   "cell_type": "code",
   "execution_count": 64,
   "metadata": {},
   "outputs": [],
   "source": [
    "class Player(object):\n",
    "    def __init__(self, row): # construtor, dunder method\n",
    "        self.player_name =row[0]\n",
    "        self.position =row[1]\n",
    "        self.age =int(row[2])\n",
    "        self.team =row[3]\n",
    "\n",
    "class Team(object):\n",
    "    def __init__(self, team_name): # attribute, constructor,dunder\n",
    "        self.name =team_name\n",
    "        self.info = []\n",
    "        for row in nba:\n",
    "            if row[3] == self.name:\n",
    "                self.info.append(Player(row))\n",
    "                \n",
    "    def num_player(self): # Method\n",
    "        count = 0  # count = len(self.info)\n",
    "        for i in self.info:\n",
    "            count += 1\n",
    "        return count\n",
    "    \n",
    "    def average_age(self):\n",
    "        total_ages = 0\n",
    "        for ins in self.info:\n",
    "            age = ins.age\n",
    "            total_ages += age\n",
    "            \n",
    "        avg = total_ages/self.num_player()\n",
    "        return avg\n",
    "\n",
    "    def __gt__(self, other):\n",
    "        return self.average_age() > other.average_age()\n",
    "    def __ge__(self, other):\n",
    "        return self.average_age() >= other.average_age()\n",
    "    \n",
    "    def __lt__(self, other):\n",
    "        return self.average_age() < other.average_age()\n",
    "    \n",
    "    def __le__(self, other):\n",
    "        return self.average_age() <= other.average_age()\n",
    "    \n",
    "    def __eq__(self, other):\n",
    "        return self.average_age() == other.average_age()\n",
    "    \n",
    "    def __ne__(self, other):\n",
    "        return self.average_age() != other.average_age()  "
   ]
  },
  {
   "cell_type": "code",
   "execution_count": 65,
   "metadata": {},
   "outputs": [],
   "source": [
    "teama = Team('Orlando Magic')\n",
    "teamb = Team('Cleveland Cavaliers')"
   ]
  },
  {
   "cell_type": "code",
   "execution_count": 66,
   "metadata": {},
   "outputs": [
    {
     "data": {
      "text/plain": [
       "True"
      ]
     },
     "execution_count": 66,
     "metadata": {},
     "output_type": "execute_result"
    }
   ],
   "source": [
    "teama > teamb"
   ]
  },
  {
   "cell_type": "code",
   "execution_count": 67,
   "metadata": {},
   "outputs": [
    {
     "data": {
      "text/plain": [
       "25.076923076923077"
      ]
     },
     "execution_count": 67,
     "metadata": {},
     "output_type": "execute_result"
    }
   ],
   "source": [
    "teama.average_age()"
   ]
  },
  {
   "cell_type": "code",
   "execution_count": 68,
   "metadata": {},
   "outputs": [
    {
     "data": {
      "text/plain": [
       "24.142857142857142"
      ]
     },
     "execution_count": 68,
     "metadata": {},
     "output_type": "execute_result"
    }
   ],
   "source": [
    "teamb.average_age()"
   ]
  },
  {
   "cell_type": "code",
   "execution_count": 69,
   "metadata": {},
   "outputs": [],
   "source": [
    "team_inst = []\n",
    "\n",
    "\n",
    "for name in team_names:\n",
    "    ins = Team(name)\n",
    "    team_inst.append(ins)"
   ]
  },
  {
   "cell_type": "code",
   "execution_count": 70,
   "metadata": {},
   "outputs": [
    {
     "data": {
      "text/plain": [
       "<__main__.Team at 0x148c809b608>"
      ]
     },
     "execution_count": 70,
     "metadata": {},
     "output_type": "execute_result"
    }
   ],
   "source": [
    "max(team_inst)"
   ]
  },
  {
   "cell_type": "code",
   "execution_count": 71,
   "metadata": {},
   "outputs": [
    {
     "data": {
      "text/plain": [
       "'Miami Heat'"
      ]
     },
     "execution_count": 71,
     "metadata": {},
     "output_type": "execute_result"
    }
   ],
   "source": [
    "max(team_inst).name"
   ]
  },
  {
   "cell_type": "code",
   "execution_count": 73,
   "metadata": {},
   "outputs": [],
   "source": [
    "avg_ages = []\n",
    "\n",
    "\n",
    "for name in team_names:\n",
    "    age = Team(name).average_age()\n",
    "    avg_ages.append(age)"
   ]
  },
  {
   "cell_type": "code",
   "execution_count": 74,
   "metadata": {},
   "outputs": [
    {
     "data": {
      "text/plain": [
       "30.6"
      ]
     },
     "execution_count": 74,
     "metadata": {},
     "output_type": "execute_result"
    }
   ],
   "source": [
    "max(avg_ages)"
   ]
  },
  {
   "cell_type": "code",
   "execution_count": 75,
   "metadata": {},
   "outputs": [
    {
     "name": "stdout",
     "output_type": "stream",
     "text": [
      "[27.25, 25.866666666666667, 28.2, 23.0, 29.125, 25.875, 26.88235294117647, 25.133333333333333, 25.076923076923077, 24.142857142857142, 28.2, 25.846153846153847, 25.38888888888889, 30.6, 26.4, 26.41269841269841, 27.75, 26.214285714285715, 25.6, 25.285714285714285, 26.071428571428573, 29.8, 24.153846153846153, 25.2, 26.333333333333332, 25.4, 28.428571428571427, 29.272727272727273, 24.88888888888889, 27.23076923076923, 25.333333333333332]\n"
     ]
    }
   ],
   "source": [
    "print(avg_ages)"
   ]
  },
  {
   "cell_type": "code",
   "execution_count": 76,
   "metadata": {},
   "outputs": [
    {
     "data": {
      "text/plain": [
       "13"
      ]
     },
     "execution_count": 76,
     "metadata": {},
     "output_type": "execute_result"
    }
   ],
   "source": [
    "avg_ages.index(30.6)"
   ]
  },
  {
   "cell_type": "code",
   "execution_count": 78,
   "metadata": {},
   "outputs": [
    {
     "data": {
      "text/plain": [
       "'Miami Heat'"
      ]
     },
     "execution_count": 78,
     "metadata": {},
     "output_type": "execute_result"
    }
   ],
   "source": [
    "team_inst[13].name"
   ]
  },
  {
   "cell_type": "code",
   "execution_count": null,
   "metadata": {},
   "outputs": [],
   "source": []
  }
 ],
 "metadata": {
  "kernelspec": {
   "display_name": "Python 3 (ipykernel)",
   "language": "python",
   "name": "python3"
  },
  "language_info": {
   "codemirror_mode": {
    "name": "ipython",
    "version": 3
   },
   "file_extension": ".py",
   "mimetype": "text/x-python",
   "name": "python",
   "nbconvert_exporter": "python",
   "pygments_lexer": "ipython3",
   "version": "3.9.12"
  }
 },
 "nbformat": 4,
 "nbformat_minor": 4
}
