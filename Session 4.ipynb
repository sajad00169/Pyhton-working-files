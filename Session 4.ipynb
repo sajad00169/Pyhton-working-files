{
 "cells": [
  {
   "cell_type": "code",
   "execution_count": 89,
   "metadata": {},
   "outputs": [],
   "source": [
    "employees = {'Names': ['Afzal', 'Zehra', 'Waqas', 'Harris', 'Sadia',\n",
    "                       'Shazad'],\n",
    " 'Ages': [20, 19, 28, 23, 18, 22],\n",
    " 'Salaries': [6000, 6500, 3500, 5800, 2500, 2800]}"
   ]
  },
  {
   "cell_type": "code",
   "execution_count": 2,
   "metadata": {},
   "outputs": [],
   "source": [
    "# employees[?].append(?)"
   ]
  },
  {
   "cell_type": "code",
   "execution_count": 33,
   "metadata": {},
   "outputs": [],
   "source": [
    "new = [\"Aina\", 19, 2500]"
   ]
  },
  {
   "cell_type": "code",
   "execution_count": 18,
   "metadata": {},
   "outputs": [],
   "source": [
    "old = [\"Amna\", 20, 2501]"
   ]
  },
  {
   "cell_type": "code",
   "execution_count": 3,
   "metadata": {},
   "outputs": [
    {
     "name": "stdout",
     "output_type": "stream",
     "text": [
      "Names\n",
      "Ages\n",
      "Salaries\n"
     ]
    }
   ],
   "source": [
    "for i in employees:\n",
    "    print(i)"
   ]
  },
  {
   "cell_type": "code",
   "execution_count": 20,
   "metadata": {},
   "outputs": [
    {
     "name": "stdout",
     "output_type": "stream",
     "text": [
      "Aina Names\n",
      "19 Ages\n",
      "2500 Salaries\n"
     ]
    }
   ],
   "source": [
    "for key, data in zip(employees, new):\n",
    "    print(data, key)"
   ]
  },
  {
   "cell_type": "code",
   "execution_count": 26,
   "metadata": {},
   "outputs": [],
   "source": [
    "first, last = \"Muhammad\", \"Waqas\""
   ]
  },
  {
   "cell_type": "code",
   "execution_count": 27,
   "metadata": {},
   "outputs": [
    {
     "data": {
      "text/plain": [
       "'Muhammad'"
      ]
     },
     "execution_count": 27,
     "metadata": {},
     "output_type": "execute_result"
    }
   ],
   "source": [
    "first"
   ]
  },
  {
   "cell_type": "code",
   "execution_count": 23,
   "metadata": {},
   "outputs": [
    {
     "data": {
      "text/plain": [
       "'Waqas'"
      ]
     },
     "execution_count": 23,
     "metadata": {},
     "output_type": "execute_result"
    }
   ],
   "source": [
    "last"
   ]
  },
  {
   "cell_type": "code",
   "execution_count": 34,
   "metadata": {},
   "outputs": [],
   "source": [
    "for key, data in zip(employees, new):\n",
    "    employees[key].append(data)"
   ]
  },
  {
   "cell_type": "code",
   "execution_count": 35,
   "metadata": {},
   "outputs": [
    {
     "data": {
      "text/plain": [
       "{'Names': ['Afzal', 'Zehra', 'Waqas', 'Harris', 'Sadia', 'Shazad', 'Aina'],\n",
       " 'Ages': [20, 19, 28, 23, 18, 22, 19],\n",
       " 'Salaries': [6000, 6500, 3500, 5800, 2500, 2800, 2500]}"
      ]
     },
     "execution_count": 35,
     "metadata": {},
     "output_type": "execute_result"
    }
   ],
   "source": [
    "employees"
   ]
  },
  {
   "cell_type": "code",
   "execution_count": 47,
   "metadata": {},
   "outputs": [
    {
     "name": "stdout",
     "output_type": "stream",
     "text": [
      "(0, 'Names')\n",
      "(1, 'Ages')\n",
      "(2, 'Salaries')\n"
     ]
    }
   ],
   "source": [
    "for i in  enumerate(employees):\n",
    "    print(i)"
   ]
  },
  {
   "cell_type": "code",
   "execution_count": 56,
   "metadata": {},
   "outputs": [],
   "source": [
    "nxt = [\"Agha\", 25, 3500]"
   ]
  },
  {
   "cell_type": "code",
   "execution_count": 57,
   "metadata": {},
   "outputs": [],
   "source": [
    "for k, i in enumerate(employees):\n",
    "    employees[i].append(nxt[k])"
   ]
  },
  {
   "cell_type": "code",
   "execution_count": 58,
   "metadata": {},
   "outputs": [
    {
     "name": "stdout",
     "output_type": "stream",
     "text": [
      "{'Names': ['Afzal', 'Zehra', 'Waqas', 'Harris', 'Sadia', 'Shazad', 'Agha'], 'Ages': [20, 19, 28, 23, 18, 22, 25], 'Salaries': [6000, 6500, 3500, 5800, 2500, 2800, 3500]}\n"
     ]
    }
   ],
   "source": [
    "print(employees)"
   ]
  },
  {
   "cell_type": "code",
   "execution_count": 15,
   "metadata": {},
   "outputs": [
    {
     "name": "stdout",
     "output_type": "stream",
     "text": [
      "(0, 'w')\n",
      "(1, 'a')\n",
      "(2, 'q')\n",
      "(3, 'a')\n",
      "(4, 's')\n"
     ]
    }
   ],
   "source": [
    "for i in enumerate(\"waqas\"):\n",
    "    print(i)"
   ]
  },
  {
   "cell_type": "code",
   "execution_count": 16,
   "metadata": {},
   "outputs": [],
   "source": [
    "# stru = employees[?].append(?)"
   ]
  },
  {
   "cell_type": "code",
   "execution_count": 17,
   "metadata": {},
   "outputs": [],
   "source": [
    "# for i, k in enumerate(employees):\n",
    "#     employees[k].append(nxt[i])"
   ]
  },
  {
   "cell_type": "code",
   "execution_count": 18,
   "metadata": {},
   "outputs": [
    {
     "data": {
      "text/plain": [
       "{'Names': ['Afzal',\n",
       "  'Zehra',\n",
       "  'Waqas',\n",
       "  'Harris',\n",
       "  'Sadia',\n",
       "  'Shazad',\n",
       "  'Aina',\n",
       "  'Agha'],\n",
       " 'Ages': [20, 19, 28, 23, 18, 22, 19, 25],\n",
       " 'Salaries': [6000, 6500, 3500, 5800, 2500, 2800, 2500, 3500]}"
      ]
     },
     "execution_count": 18,
     "metadata": {},
     "output_type": "execute_result"
    }
   ],
   "source": [
    "employees"
   ]
  },
  {
   "cell_type": "code",
   "execution_count": 64,
   "metadata": {},
   "outputs": [
    {
     "data": {
      "text/plain": [
       "2"
      ]
     },
     "execution_count": 64,
     "metadata": {},
     "output_type": "execute_result"
    }
   ],
   "source": [
    "employees[\"Names\"].index(\"Waqas\")"
   ]
  },
  {
   "cell_type": "code",
   "execution_count": 66,
   "metadata": {},
   "outputs": [
    {
     "data": {
      "text/plain": [
       "'Waqas'"
      ]
     },
     "execution_count": 66,
     "metadata": {},
     "output_type": "execute_result"
    }
   ],
   "source": [
    "employees[\"Names\"][2]"
   ]
  },
  {
   "cell_type": "code",
   "execution_count": 79,
   "metadata": {},
   "outputs": [],
   "source": [
    "employees[\"Names\"][2] = \"M. Waqas\""
   ]
  },
  {
   "cell_type": "code",
   "execution_count": 75,
   "metadata": {},
   "outputs": [
    {
     "data": {
      "text/plain": [
       "'M. Waqas'"
      ]
     },
     "execution_count": 75,
     "metadata": {},
     "output_type": "execute_result"
    }
   ],
   "source": [
    "employees[\"Names\"][2]"
   ]
  },
  {
   "cell_type": "code",
   "execution_count": 80,
   "metadata": {},
   "outputs": [
    {
     "data": {
      "text/plain": [
       "{'Names': ['Afzal', 'Zehra', 'M. Waqas', 'Harris', 'Sadia', 'Shazad'],\n",
       " 'Ages': [20, 19, 28, 23, 18, 22],\n",
       " 'Salaries': [6000, 6500, 3500, 5800, 2500, 2800]}"
      ]
     },
     "execution_count": 80,
     "metadata": {},
     "output_type": "execute_result"
    }
   ],
   "source": [
    "employees"
   ]
  },
  {
   "cell_type": "code",
   "execution_count": 23,
   "metadata": {},
   "outputs": [],
   "source": [
    "# concatenation"
   ]
  },
  {
   "cell_type": "code",
   "execution_count": 24,
   "metadata": {},
   "outputs": [],
   "source": [
    "name = \"Waqas\""
   ]
  },
  {
   "cell_type": "code",
   "execution_count": 25,
   "metadata": {},
   "outputs": [
    {
     "data": {
      "text/plain": [
       "'Dr. Waqas'"
      ]
     },
     "execution_count": 25,
     "metadata": {},
     "output_type": "execute_result"
    }
   ],
   "source": [
    "\"Dr. \" + name # gluing -> glue "
   ]
  },
  {
   "cell_type": "code",
   "execution_count": 26,
   "metadata": {},
   "outputs": [
    {
     "data": {
      "text/plain": [
       "'WaqasWaqas'"
      ]
     },
     "execution_count": 26,
     "metadata": {},
     "output_type": "execute_result"
    }
   ],
   "source": [
    "name*2"
   ]
  },
  {
   "cell_type": "code",
   "execution_count": 27,
   "metadata": {},
   "outputs": [
    {
     "data": {
      "text/plain": [
       "'               '"
      ]
     },
     "execution_count": 27,
     "metadata": {},
     "output_type": "execute_result"
    }
   ],
   "source": [
    "\" \"*15"
   ]
  },
  {
   "cell_type": "code",
   "execution_count": 86,
   "metadata": {},
   "outputs": [
    {
     "name": "stdout",
     "output_type": "stream",
     "text": [
      "Afzal, You are my best fellow\n",
      "Zehra, You are my best fellow\n",
      "M. Waqas, You are my best fellow\n",
      "Harris, You are my best fellow\n",
      "Sadia, You are my best fellow\n",
      "Shazad, You are my best fellow\n"
     ]
    }
   ],
   "source": [
    "for i in employees[\"Names\"]:\n",
    "    print(f\"{i}, You are my best fellow\")\n",
    "    "
   ]
  },
  {
   "cell_type": "code",
   "execution_count": 29,
   "metadata": {},
   "outputs": [
    {
     "name": "stdout",
     "output_type": "stream",
     "text": [
      "Afzal, You are best fellow\n",
      "Zehra, You are best fellow\n",
      "Muhammad Waqas, You are best fellow\n",
      "Harris, You are best fellow\n",
      "Sadia, You are best fellow\n",
      "Shazad, You are best fellow\n",
      "Aina, You are best fellow\n",
      "Agha, You are best fellow\n"
     ]
    }
   ],
   "source": [
    "for i in employees:\n",
    "    if i == \"Names\":\n",
    "        names = employees[i]\n",
    "        for j in names:\n",
    "            print(f\"{j}, You are best fellow\")"
   ]
  },
  {
   "cell_type": "code",
   "execution_count": 90,
   "metadata": {},
   "outputs": [
    {
     "name": "stdout",
     "output_type": "stream",
     "text": [
      "Afzal,You are best fellow\n",
      "Zehra,You are best fellow\n",
      "Waqas,You are best fellow\n",
      "Harris,You are best fellow\n",
      "Sadia,You are best fellow\n",
      "Shazad,You are best fellow\n"
     ]
    }
   ],
   "source": [
    "for i in employees:\n",
    "    if i == \"Names\":\n",
    "        names = employees[i]\n",
    "        for j in names:\n",
    "            print(\"{0},You are best fellow\".format(j))"
   ]
  },
  {
   "cell_type": "code",
   "execution_count": 91,
   "metadata": {},
   "outputs": [
    {
     "name": "stdout",
     "output_type": "stream",
     "text": [
      "5, You, Afzal are 6 best fellow 6\n",
      "5, You, Zehra are 6 best fellow 6\n",
      "5, You, Waqas are 6 best fellow 6\n",
      "5, You, Harris are 6 best fellow 6\n",
      "5, You, Sadia are 6 best fellow 6\n",
      "5, You, Shazad are 6 best fellow 6\n"
     ]
    }
   ],
   "source": [
    "for i in employees:\n",
    "    if i == \"Names\":\n",
    "        names = employees[i]\n",
    "        for j in names:\n",
    "            print(\"{1}, You, {0} are {2} best fellow {2}\".format(j, 5, 6))"
   ]
  },
  {
   "cell_type": "code",
   "execution_count": 32,
   "metadata": {},
   "outputs": [
    {
     "name": "stdout",
     "output_type": "stream",
     "text": [
      "Afzal, You, Afzal are best fellow Afzal\n",
      "Zehra, You, Zehra are best fellow Zehra\n",
      "Muhammad Waqas, You, Muhammad Waqas are best fellow Muhammad Waqas\n",
      "Harris, You, Harris are best fellow Harris\n",
      "Sadia, You, Sadia are best fellow Sadia\n",
      "Shazad, You, Shazad are best fellow Shazad\n",
      "Aina, You, Aina are best fellow Aina\n",
      "Agha, You, Agha are best fellow Agha\n"
     ]
    }
   ],
   "source": [
    "for i in employees:\n",
    "    if i == \"Names\":\n",
    "        names = employees[i]\n",
    "        for j in names:\n",
    "            print(\"{0}, You, {0} are best fellow {0}\".format(j, 5, 6))"
   ]
  },
  {
   "cell_type": "code",
   "execution_count": 33,
   "metadata": {},
   "outputs": [
    {
     "name": "stdout",
     "output_type": "stream",
     "text": [
      "Afzal, You Afzal are my best fellow Afzal\n",
      "Zehra, You Zehra are my best fellow Zehra\n",
      "Muhammad Waqas, You Muhammad Waqas are my best fellow Muhammad Waqas\n",
      "Harris, You Harris are my best fellow Harris\n",
      "Sadia, You Sadia are my best fellow Sadia\n",
      "Shazad, You Shazad are my best fellow Shazad\n",
      "Aina, You Aina are my best fellow Aina\n",
      "Agha, You Agha are my best fellow Agha\n"
     ]
    }
   ],
   "source": [
    "for i in employees[\"Names\"]:\n",
    "    print(f\"{i}, You {i} are my best fellow {i}\")"
   ]
  },
  {
   "cell_type": "code",
   "execution_count": 34,
   "metadata": {},
   "outputs": [],
   "source": [
    "# print()\n",
    "# return some value, perform some specific task,input - process - output"
   ]
  },
  {
   "cell_type": "code",
   "execution_count": 35,
   "metadata": {},
   "outputs": [],
   "source": [
    "def prnt(x):  \n",
    "    \n",
    "    return x"
   ]
  },
  {
   "cell_type": "code",
   "execution_count": 36,
   "metadata": {},
   "outputs": [
    {
     "data": {
      "text/plain": [
       "2"
      ]
     },
     "execution_count": 36,
     "metadata": {},
     "output_type": "execute_result"
    }
   ],
   "source": [
    "prnt(2)"
   ]
  },
  {
   "cell_type": "code",
   "execution_count": 37,
   "metadata": {},
   "outputs": [
    {
     "data": {
      "text/plain": [
       "'Waqas'"
      ]
     },
     "execution_count": 37,
     "metadata": {},
     "output_type": "execute_result"
    }
   ],
   "source": [
    "# print()\n",
    "\n",
    "prnt(\"Waqas\")"
   ]
  },
  {
   "cell_type": "code",
   "execution_count": 38,
   "metadata": {},
   "outputs": [],
   "source": [
    "def summation(x,y):\n",
    "    total  = x + y\n",
    "    return \"Waqas\""
   ]
  },
  {
   "cell_type": "code",
   "execution_count": 39,
   "metadata": {},
   "outputs": [
    {
     "data": {
      "text/plain": [
       "'Waqas'"
      ]
     },
     "execution_count": 39,
     "metadata": {},
     "output_type": "execute_result"
    }
   ],
   "source": [
    "summation(8,2)"
   ]
  },
  {
   "cell_type": "code",
   "execution_count": 40,
   "metadata": {},
   "outputs": [],
   "source": [
    "def summation(x,y):\n",
    "    total  = x + y\n",
    "    return total"
   ]
  },
  {
   "cell_type": "code",
   "execution_count": 41,
   "metadata": {},
   "outputs": [
    {
     "data": {
      "text/plain": [
       "17"
      ]
     },
     "execution_count": 41,
     "metadata": {},
     "output_type": "execute_result"
    }
   ],
   "source": [
    "summation(8,9)"
   ]
  },
  {
   "cell_type": "code",
   "execution_count": 42,
   "metadata": {},
   "outputs": [],
   "source": [
    "def employee_addition(x):\n",
    "    for key, data in zip(employees, x):\n",
    "        employees[key].append(data)\n",
    "    return employees"
   ]
  },
  {
   "cell_type": "code",
   "execution_count": 43,
   "metadata": {},
   "outputs": [],
   "source": [
    "ex = [\"Hassan\", 27,4000]"
   ]
  },
  {
   "cell_type": "code",
   "execution_count": 44,
   "metadata": {},
   "outputs": [
    {
     "name": "stdout",
     "output_type": "stream",
     "text": [
      "{'Names': ['Afzal', 'Zehra', 'Muhammad Waqas', 'Harris', 'Sadia', 'Shazad', 'Aina', 'Agha'], 'Ages': [20, 19, 28, 23, 18, 22, 19, 25], 'Salaries': [6000, 6500, 3500, 5800, 2500, 2800, 2500, 3500]}\n"
     ]
    }
   ],
   "source": [
    "print(employees)"
   ]
  },
  {
   "cell_type": "code",
   "execution_count": 45,
   "metadata": {},
   "outputs": [
    {
     "name": "stdout",
     "output_type": "stream",
     "text": [
      "{'Names': ['Afzal', 'Zehra', 'Muhammad Waqas', 'Harris', 'Sadia', 'Shazad', 'Aina', 'Agha', 'Hassan'], 'Ages': [20, 19, 28, 23, 18, 22, 19, 25, 27], 'Salaries': [6000, 6500, 3500, 5800, 2500, 2800, 2500, 3500, 4000]}\n"
     ]
    }
   ],
   "source": [
    "print(employee_addition(ex))"
   ]
  },
  {
   "cell_type": "code",
   "execution_count": 46,
   "metadata": {},
   "outputs": [
    {
     "name": "stdout",
     "output_type": "stream",
     "text": [
      "Hassan\n",
      "27\n",
      "4000\n"
     ]
    }
   ],
   "source": [
    "for i in employees:\n",
    "    # del employees[i][-1]\n",
    "    print(employees[i][-1])"
   ]
  },
  {
   "cell_type": "code",
   "execution_count": 47,
   "metadata": {},
   "outputs": [
    {
     "name": "stdout",
     "output_type": "stream",
     "text": [
      "Hassan\n",
      "27\n",
      "4000\n"
     ]
    }
   ],
   "source": [
    "for v in employees.values():\n",
    "    print(v[-1])"
   ]
  },
  {
   "cell_type": "code",
   "execution_count": 48,
   "metadata": {},
   "outputs": [
    {
     "name": "stdout",
     "output_type": "stream",
     "text": [
      "{'Names': ['Afzal', 'Zehra', 'Muhammad Waqas', 'Harris', 'Sadia', 'Shazad', 'Aina', 'Agha', 'Hassan'], 'Ages': [20, 19, 28, 23, 18, 22, 19, 25, 27], 'Salaries': [6000, 6500, 3500, 5800, 2500, 2800, 2500, 3500, 4000]}\n"
     ]
    }
   ],
   "source": [
    "print(employees)"
   ]
  },
  {
   "cell_type": "code",
   "execution_count": 49,
   "metadata": {},
   "outputs": [],
   "source": [
    "for v in employees.values():\n",
    "    del v[-1]"
   ]
  },
  {
   "cell_type": "code",
   "execution_count": 50,
   "metadata": {},
   "outputs": [
    {
     "name": "stdout",
     "output_type": "stream",
     "text": [
      "{'Names': ['Afzal', 'Zehra', 'Muhammad Waqas', 'Harris', 'Sadia', 'Shazad', 'Aina', 'Agha'], 'Ages': [20, 19, 28, 23, 18, 22, 19, 25], 'Salaries': [6000, 6500, 3500, 5800, 2500, 2800, 2500, 3500]}\n"
     ]
    }
   ],
   "source": [
    "print(employees)"
   ]
  },
  {
   "cell_type": "code",
   "execution_count": 51,
   "metadata": {},
   "outputs": [
    {
     "data": {
      "text/plain": [
       "[18, 19, 19, 20, 22, 23, 25, 27, 28]"
      ]
     },
     "execution_count": 51,
     "metadata": {},
     "output_type": "execute_result"
    }
   ],
   "source": [
    "sorted([20, 19, 28, 23, 18, 22, 19, 25, 27])"
   ]
  },
  {
   "cell_type": "code",
   "execution_count": 52,
   "metadata": {},
   "outputs": [],
   "source": [
    "[20, 19, 28, 23, 18, 22, 19, 25, 27].sort()"
   ]
  },
  {
   "cell_type": "code",
   "execution_count": 53,
   "metadata": {},
   "outputs": [],
   "source": [
    "l = [18, 19, 19, 20, 22, 23, 25, 27, 28]"
   ]
  },
  {
   "cell_type": "code",
   "execution_count": 54,
   "metadata": {},
   "outputs": [
    {
     "name": "stdout",
     "output_type": "stream",
     "text": [
      "0\n",
      "5\n",
      "10\n",
      "15\n",
      "20\n",
      "25\n",
      "30\n",
      "35\n",
      "40\n",
      "45\n"
     ]
    }
   ],
   "source": [
    "for i in range(0,50,5):\n",
    "    print(i)"
   ]
  },
  {
   "cell_type": "code",
   "execution_count": 55,
   "metadata": {},
   "outputs": [
    {
     "name": "stdout",
     "output_type": "stream",
     "text": [
      "0\n",
      "1\n",
      "2\n",
      "3\n",
      "4\n",
      "5\n",
      "6\n",
      "7\n",
      "8\n"
     ]
    }
   ],
   "source": [
    "for i in range(len(l)):\n",
    "    print(i)"
   ]
  },
  {
   "cell_type": "code",
   "execution_count": 56,
   "metadata": {},
   "outputs": [
    {
     "name": "stdout",
     "output_type": "stream",
     "text": [
      "18\n",
      "19\n",
      "22\n",
      "25\n",
      "28\n"
     ]
    }
   ],
   "source": [
    "for i in l[::2]:\n",
    "    print(i)"
   ]
  },
  {
   "cell_type": "code",
   "execution_count": 57,
   "metadata": {},
   "outputs": [
    {
     "name": "stdout",
     "output_type": "stream",
     "text": [
      "{'Names': ['Afzal', 'Zehra', 'Muhammad Waqas', 'Harris', 'Sadia', 'Shazad', 'Aina', 'Agha'], 'Ages': [20, 19, 28, 23, 18, 22, 19, 25], 'Salaries': [6000, 6500, 3500, 5800, 2500, 2800, 2500, 3500]}\n"
     ]
    }
   ],
   "source": [
    "print(employees)"
   ]
  }
 ],
 "metadata": {
  "kernelspec": {
   "display_name": "Python 3",
   "language": "python",
   "name": "python3"
  },
  "language_info": {
   "codemirror_mode": {
    "name": "ipython",
    "version": 3
   },
   "file_extension": ".py",
   "mimetype": "text/x-python",
   "name": "python",
   "nbconvert_exporter": "python",
   "pygments_lexer": "ipython3",
   "version": "3.7.4"
  }
 },
 "nbformat": 4,
 "nbformat_minor": 4
}
