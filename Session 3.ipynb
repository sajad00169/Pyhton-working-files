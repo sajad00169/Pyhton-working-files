{
 "cells": [
  {
   "cell_type": "code",
   "execution_count": 11,
   "metadata": {},
   "outputs": [],
   "source": [
    "name = \"Waqas\""
   ]
  },
  {
   "cell_type": "code",
   "execution_count": 17,
   "metadata": {},
   "outputs": [
    {
     "name": "stdout",
     "output_type": "stream",
     "text": [
      "W\n",
      "a\n",
      "q\n",
      "a\n",
      "s\n"
     ]
    }
   ],
   "source": [
    "for aa in name:\n",
    "    print(aa)"
   ]
  },
  {
   "cell_type": "code",
   "execution_count": 18,
   "metadata": {},
   "outputs": [
    {
     "data": {
      "text/plain": [
       "'s'"
      ]
     },
     "execution_count": 18,
     "metadata": {},
     "output_type": "execute_result"
    }
   ],
   "source": [
    "step"
   ]
  },
  {
   "cell_type": "code",
   "execution_count": 4,
   "metadata": {},
   "outputs": [
    {
     "name": "stdout",
     "output_type": "stream",
     "text": [
      "Waqas\n",
      "Waqas\n",
      "Waqas\n",
      "Waqas\n",
      "Waqas\n"
     ]
    }
   ],
   "source": [
    "for step in name:\n",
    "    print(name)"
   ]
  },
  {
   "cell_type": "code",
   "execution_count": 5,
   "metadata": {},
   "outputs": [
    {
     "name": "stdout",
     "output_type": "stream",
     "text": [
      "NED University\n",
      "NED University\n",
      "NED University\n",
      "NED University\n",
      "NED University\n"
     ]
    }
   ],
   "source": [
    "for step in name:\n",
    "    print(\"NED University\")"
   ]
  },
  {
   "cell_type": "code",
   "execution_count": 28,
   "metadata": {},
   "outputs": [],
   "source": [
    "empl = [['Afzal', 20, 5500, 'GNG', 'MD'],\n",
    " ['Zehra', 18, 6000, 'Finance', 'CFO'],\n",
    " ['Muhammad Waqas', 28, 2500, 'D.S','Senior Consultant'],\n",
    " ['Harris', 22, 5300, 'MIS', 'Supervisor']]"
   ]
  },
  {
   "cell_type": "code",
   "execution_count": 29,
   "metadata": {},
   "outputs": [
    {
     "name": "stdout",
     "output_type": "stream",
     "text": [
      "['Afzal', 20, 5500, 'GNG', 'MD']\n",
      "['Afzal', 20, 5500, 'GNG', 'MD']\n",
      "['Afzal', 20, 5500, 'GNG', 'MD']\n",
      "['Afzal', 20, 5500, 'GNG', 'MD']\n"
     ]
    }
   ],
   "source": [
    "for i in empl:\n",
    "    print(empl[0])\n",
    "    "
   ]
  },
  {
   "cell_type": "code",
   "execution_count": 30,
   "metadata": {},
   "outputs": [],
   "source": [
    "for i in empl:\n",
    "    dept = i[-2]\n",
    "    if dept == \"D.S\":\n",
    "        i[2] += 500\n",
    "    "
   ]
  },
  {
   "cell_type": "code",
   "execution_count": 31,
   "metadata": {},
   "outputs": [
    {
     "data": {
      "text/plain": [
       "[['Afzal', 20, 5500, 'GNG', 'MD'],\n",
       " ['Zehra', 18, 6000, 'Finance', 'CFO'],\n",
       " ['Muhammad Waqas', 28, 3000, 'D.S', 'Senior Consultant'],\n",
       " ['Harris', 22, 5300, 'MIS', 'Supervisor']]"
      ]
     },
     "execution_count": 31,
     "metadata": {},
     "output_type": "execute_result"
    }
   ],
   "source": [
    "empl"
   ]
  },
  {
   "cell_type": "code",
   "execution_count": 10,
   "metadata": {},
   "outputs": [],
   "source": [
    "for i in empl:\n",
    "    dept = i[-2]\n",
    "    if dept == \"D.S\":\n",
    "        sal = i[2]\n",
    "        sal += 500\n",
    "        "
   ]
  },
  {
   "cell_type": "code",
   "execution_count": 11,
   "metadata": {},
   "outputs": [
    {
     "data": {
      "text/plain": [
       "[['Afzal', 20, 5500, 'GNG', 'MD'],\n",
       " ['Zehra', 18, 6000, 'Finance', 'CFO'],\n",
       " ['Muhammad Waqas', 28, 3000, 'D.S', 'Senior Consultant'],\n",
       " ['Harris', 22, 5300, 'MIS', 'Supervisor']]"
      ]
     },
     "execution_count": 11,
     "metadata": {},
     "output_type": "execute_result"
    }
   ],
   "source": [
    "empl"
   ]
  },
  {
   "cell_type": "code",
   "execution_count": 12,
   "metadata": {},
   "outputs": [],
   "source": [
    "for i in empl:\n",
    "    dept = i[-2]\n",
    "    if dept == \"D.S\":\n",
    "        sal = i[2]\n",
    "        sal += 500\n",
    "        i[2] = sal"
   ]
  },
  {
   "cell_type": "code",
   "execution_count": 13,
   "metadata": {},
   "outputs": [
    {
     "data": {
      "text/plain": [
       "[['Afzal', 20, 5500, 'GNG', 'MD'],\n",
       " ['Zehra', 18, 6000, 'Finance', 'CFO'],\n",
       " ['Muhammad Waqas', 28, 3500, 'D.S', 'Senior Consultant'],\n",
       " ['Harris', 22, 5300, 'MIS', 'Supervisor']]"
      ]
     },
     "execution_count": 13,
     "metadata": {},
     "output_type": "execute_result"
    }
   ],
   "source": [
    "empl"
   ]
  },
  {
   "cell_type": "code",
   "execution_count": 14,
   "metadata": {},
   "outputs": [
    {
     "data": {
      "text/plain": [
       "False"
      ]
     },
     "execution_count": 14,
     "metadata": {},
     "output_type": "execute_result"
    }
   ],
   "source": [
    "1== 1.0 and 2 == 2.9"
   ]
  },
  {
   "cell_type": "code",
   "execution_count": 15,
   "metadata": {},
   "outputs": [
    {
     "data": {
      "text/plain": [
       "False"
      ]
     },
     "execution_count": 15,
     "metadata": {},
     "output_type": "execute_result"
    }
   ],
   "source": [
    " 2 == 2.9 and 1== 1.0"
   ]
  },
  {
   "cell_type": "code",
   "execution_count": 16,
   "metadata": {},
   "outputs": [
    {
     "data": {
      "text/plain": [
       "True"
      ]
     },
     "execution_count": 16,
     "metadata": {},
     "output_type": "execute_result"
    }
   ],
   "source": [
    "not False"
   ]
  },
  {
   "cell_type": "code",
   "execution_count": 17,
   "metadata": {},
   "outputs": [],
   "source": [
    "for i in empl:\n",
    "    if not i[-2] == \"D.S\":\n",
    "        i[2]+=500"
   ]
  },
  {
   "cell_type": "code",
   "execution_count": 18,
   "metadata": {},
   "outputs": [
    {
     "data": {
      "text/plain": [
       "[['Afzal', 20, 6000, 'GNG', 'MD'],\n",
       " ['Zehra', 18, 6500, 'Finance', 'CFO'],\n",
       " ['Muhammad Waqas', 28, 3500, 'D.S', 'Senior Consultant'],\n",
       " ['Harris', 22, 5800, 'MIS', 'Supervisor']]"
      ]
     },
     "execution_count": 18,
     "metadata": {},
     "output_type": "execute_result"
    }
   ],
   "source": [
    "empl"
   ]
  },
  {
   "cell_type": "code",
   "execution_count": 19,
   "metadata": {},
   "outputs": [],
   "source": [
    "z = ['Zehra', 18, 6000, 'Finance', 'CFO']"
   ]
  },
  {
   "cell_type": "code",
   "execution_count": 20,
   "metadata": {},
   "outputs": [
    {
     "data": {
      "text/plain": [
       "['Zehra', 18, 6000, 'Finance', 'CFO']"
      ]
     },
     "execution_count": 20,
     "metadata": {},
     "output_type": "execute_result"
    }
   ],
   "source": [
    "z"
   ]
  },
  {
   "cell_type": "markdown",
   "metadata": {},
   "source": [
    "# Membership operators\n",
    "\n",
    "\n",
    "* in\n",
    "* not in"
   ]
  },
  {
   "cell_type": "code",
   "execution_count": 21,
   "metadata": {},
   "outputs": [
    {
     "data": {
      "text/plain": [
       "False"
      ]
     },
     "execution_count": 21,
     "metadata": {},
     "output_type": "execute_result"
    }
   ],
   "source": [
    "\"Cfo\" in z"
   ]
  },
  {
   "cell_type": "code",
   "execution_count": 22,
   "metadata": {},
   "outputs": [
    {
     "data": {
      "text/plain": [
       "False"
      ]
     },
     "execution_count": 22,
     "metadata": {},
     "output_type": "execute_result"
    }
   ],
   "source": [
    "\"CFO\" not in z"
   ]
  },
  {
   "cell_type": "code",
   "execution_count": 23,
   "metadata": {},
   "outputs": [
    {
     "data": {
      "text/plain": [
       "[['Afzal', 20, 6000, 'GNG', 'MD'],\n",
       " ['Zehra', 18, 6500, 'Finance', 'CFO'],\n",
       " ['Muhammad Waqas', 28, 3500, 'D.S', 'Senior Consultant'],\n",
       " ['Harris', 22, 5800, 'MIS', 'Supervisor']]"
      ]
     },
     "execution_count": 23,
     "metadata": {},
     "output_type": "execute_result"
    }
   ],
   "source": [
    "empl"
   ]
  },
  {
   "cell_type": "markdown",
   "metadata": {},
   "source": [
    "# dictionary"
   ]
  },
  {
   "cell_type": "code",
   "execution_count": 24,
   "metadata": {},
   "outputs": [],
   "source": [
    "d = {\"Name\":\"Waqas\", \"Age\":28, \"Salary\":3500, \"Dept\":\"D.S\",\"Pos\": \"S.C\"}"
   ]
  },
  {
   "cell_type": "code",
   "execution_count": 25,
   "metadata": {},
   "outputs": [
    {
     "data": {
      "text/plain": [
       "dict"
      ]
     },
     "execution_count": 25,
     "metadata": {},
     "output_type": "execute_result"
    }
   ],
   "source": [
    "type(d)"
   ]
  },
  {
   "cell_type": "code",
   "execution_count": 26,
   "metadata": {},
   "outputs": [
    {
     "name": "stdout",
     "output_type": "stream",
     "text": [
      "<class 'dict'>\n"
     ]
    }
   ],
   "source": [
    "print(type(d))"
   ]
  },
  {
   "cell_type": "code",
   "execution_count": 27,
   "metadata": {},
   "outputs": [
    {
     "name": "stdout",
     "output_type": "stream",
     "text": [
      "<class 'list'>\n"
     ]
    }
   ],
   "source": [
    "print(type(empl))"
   ]
  },
  {
   "cell_type": "code",
   "execution_count": 28,
   "metadata": {},
   "outputs": [
    {
     "data": {
      "text/plain": [
       "{'Name': 'Waqas', 'Age': 28, 'Salary': 3500, 'Dept': 'D.S', 'Pos': 'S.C'}"
      ]
     },
     "execution_count": 28,
     "metadata": {},
     "output_type": "execute_result"
    }
   ],
   "source": [
    "d"
   ]
  },
  {
   "cell_type": "code",
   "execution_count": 29,
   "metadata": {},
   "outputs": [
    {
     "data": {
      "text/plain": [
       "dict_keys(['Name', 'Age', 'Salary', 'Dept', 'Pos'])"
      ]
     },
     "execution_count": 29,
     "metadata": {},
     "output_type": "execute_result"
    }
   ],
   "source": [
    "d.keys()"
   ]
  },
  {
   "cell_type": "code",
   "execution_count": 30,
   "metadata": {},
   "outputs": [
    {
     "data": {
      "text/plain": [
       "dict_values(['Waqas', 28, 3500, 'D.S', 'S.C'])"
      ]
     },
     "execution_count": 30,
     "metadata": {},
     "output_type": "execute_result"
    }
   ],
   "source": [
    "d.values()"
   ]
  },
  {
   "cell_type": "code",
   "execution_count": 31,
   "metadata": {},
   "outputs": [
    {
     "data": {
      "text/plain": [
       "dict_items([('Name', 'Waqas'), ('Age', 28), ('Salary', 3500), ('Dept', 'D.S'), ('Pos', 'S.C')])"
      ]
     },
     "execution_count": 31,
     "metadata": {},
     "output_type": "execute_result"
    }
   ],
   "source": [
    "d.items()"
   ]
  },
  {
   "cell_type": "code",
   "execution_count": 32,
   "metadata": {},
   "outputs": [
    {
     "data": {
      "text/plain": [
       "{'Name': 'Waqas', 'Age': 28, 'Salary': 3500, 'Dept': 'D.S', 'Pos': 'S.C'}"
      ]
     },
     "execution_count": 32,
     "metadata": {},
     "output_type": "execute_result"
    }
   ],
   "source": [
    "d"
   ]
  },
  {
   "cell_type": "code",
   "execution_count": 33,
   "metadata": {},
   "outputs": [
    {
     "data": {
      "text/plain": [
       "28"
      ]
     },
     "execution_count": 33,
     "metadata": {},
     "output_type": "execute_result"
    }
   ],
   "source": [
    "d[\"Age\"]"
   ]
  },
  {
   "cell_type": "code",
   "execution_count": 34,
   "metadata": {},
   "outputs": [
    {
     "data": {
      "text/plain": [
       "{'Name': 'Waqas', 'Age': 28, 'Salary': 3500, 'Dept': 'D.S', 'Pos': 'S.C'}"
      ]
     },
     "execution_count": 34,
     "metadata": {},
     "output_type": "execute_result"
    }
   ],
   "source": [
    "d"
   ]
  },
  {
   "cell_type": "code",
   "execution_count": 35,
   "metadata": {},
   "outputs": [],
   "source": [
    "employees = {\"Names\":[\"Afzal\", \"Zehra\", \"Waqas\", \"Harris\"],\n",
    "            \"Ages\":[20,19,28,23],\n",
    "            \"Salaries\": [6000,6500,3500,5800]}"
   ]
  },
  {
   "cell_type": "code",
   "execution_count": 36,
   "metadata": {},
   "outputs": [
    {
     "data": {
      "text/plain": [
       "{'Names': ['Afzal', 'Zehra', 'Waqas', 'Harris'],\n",
       " 'Ages': [20, 19, 28, 23],\n",
       " 'Salaries': [6000, 6500, 3500, 5800]}"
      ]
     },
     "execution_count": 36,
     "metadata": {},
     "output_type": "execute_result"
    }
   ],
   "source": [
    "employees"
   ]
  },
  {
   "cell_type": "code",
   "execution_count": 37,
   "metadata": {},
   "outputs": [],
   "source": [
    "employees[\"Names\"].append(\"Sadia\")\n",
    "employees[\"Ages\"].append(18)\n",
    "employees[\"Salaries\"].append(2500)"
   ]
  },
  {
   "cell_type": "code",
   "execution_count": 38,
   "metadata": {},
   "outputs": [
    {
     "data": {
      "text/plain": [
       "{'Names': ['Afzal', 'Zehra', 'Waqas', 'Harris', 'Sadia'],\n",
       " 'Ages': [20, 19, 28, 23, 18],\n",
       " 'Salaries': [6000, 6500, 3500, 5800, 2500]}"
      ]
     },
     "execution_count": 38,
     "metadata": {},
     "output_type": "execute_result"
    }
   ],
   "source": [
    "employees"
   ]
  },
  {
   "cell_type": "code",
   "execution_count": 39,
   "metadata": {},
   "outputs": [],
   "source": [
    "# employees[?].append(?)"
   ]
  },
  {
   "cell_type": "code",
   "execution_count": 40,
   "metadata": {},
   "outputs": [
    {
     "name": "stdout",
     "output_type": "stream",
     "text": [
      "Name\n",
      "Age\n",
      "Salary\n",
      "Dept\n",
      "Pos\n"
     ]
    }
   ],
   "source": [
    "for i in d:\n",
    "    print(i)"
   ]
  },
  {
   "cell_type": "code",
   "execution_count": 41,
   "metadata": {},
   "outputs": [],
   "source": [
    "n = [\"Shazad\", 22, 2800]\n",
    "for i in employees:\n",
    "    employees[i].append(\"Shazad\")"
   ]
  },
  {
   "cell_type": "code",
   "execution_count": 42,
   "metadata": {},
   "outputs": [],
   "source": [
    "for key, i in zip(employees, n):\n",
    "    employees[key].append(i)"
   ]
  },
  {
   "cell_type": "code",
   "execution_count": 43,
   "metadata": {},
   "outputs": [
    {
     "data": {
      "text/plain": [
       "{'Names': ['Afzal', 'Zehra', 'Waqas', 'Harris', 'Sadia', 'Shazad', 'Shazad'],\n",
       " 'Ages': [20, 19, 28, 23, 18, 'Shazad', 22],\n",
       " 'Salaries': [6000, 6500, 3500, 5800, 2500, 'Shazad', 2800]}"
      ]
     },
     "execution_count": 43,
     "metadata": {},
     "output_type": "execute_result"
    }
   ],
   "source": [
    "employees"
   ]
  },
  {
   "cell_type": "code",
   "execution_count": 3,
   "metadata": {},
   "outputs": [],
   "source": [
    "import os"
   ]
  },
  {
   "cell_type": "code",
   "execution_count": 5,
   "metadata": {},
   "outputs": [
    {
     "data": {
      "text/plain": [
       "'C:\\\\Users\\\\Sajad Shah\\\\Matlab_Folder'"
      ]
     },
     "execution_count": 5,
     "metadata": {},
     "output_type": "execute_result"
    }
   ],
   "source": [
    "os. getcwd()"
   ]
  },
  {
   "cell_type": "code",
   "execution_count": null,
   "metadata": {},
   "outputs": [],
   "source": []
  }
 ],
 "metadata": {
  "kernelspec": {
   "display_name": "Python 3 (ipykernel)",
   "language": "python",
   "name": "python3"
  },
  "language_info": {
   "codemirror_mode": {
    "name": "ipython",
    "version": 3
   },
   "file_extension": ".py",
   "mimetype": "text/x-python",
   "name": "python",
   "nbconvert_exporter": "python",
   "pygments_lexer": "ipython3",
   "version": "3.9.12"
  }
 },
 "nbformat": 4,
 "nbformat_minor": 4
}
